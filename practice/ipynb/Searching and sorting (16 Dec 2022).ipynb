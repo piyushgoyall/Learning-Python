{
 "cells": [
  {
   "cell_type": "code",
   "execution_count": 1,
   "id": "466db0a2",
   "metadata": {},
   "outputs": [
    {
     "name": "stdout",
     "output_type": "stream",
     "text": [
      "(True, 3)\n"
     ]
    }
   ],
   "source": [
    "#1 Write a Python program for sequential search.\n",
    "\n",
    "def Sequential_Search(dlist, item):\n",
    "\n",
    "    pos = 0\n",
    "    found = False\n",
    "    \n",
    "    while pos < len(dlist) and not found:\n",
    "        if dlist[pos] == item:\n",
    "            found = True\n",
    "        else:\n",
    "            pos = pos + 1\n",
    "    \n",
    "    return found, pos\n",
    "\n",
    "print(Sequential_Search([11,23,58,31,56,77,43,12,65,19],31))"
   ]
  },
  {
   "cell_type": "code",
   "execution_count": 2,
   "id": "df506016",
   "metadata": {},
   "outputs": [
    {
     "name": "stdout",
     "output_type": "stream",
     "text": [
      "True\n",
      "False\n"
     ]
    }
   ],
   "source": [
    "#2 Write a Python program for binary search for an ordered list.\n",
    "\n",
    "def Ordered_binary_Search(olist, item):\n",
    "    \n",
    "    if len(olist) == 0:\n",
    "        return False\n",
    "    else:\n",
    "        midpoint = len(olist) // 2\n",
    "        if olist[midpoint] == item:\n",
    "            return True\n",
    "        else:\n",
    "            if item < olist[midpoint]:\n",
    "                return binarySearch(olist[:midpoint], item)\n",
    "            else:\n",
    "                return binarySearch(olist[midpoint+1:], item)\n",
    "\n",
    "def binarySearch(alist, item):\n",
    "\n",
    "    first = 0\n",
    "    last = len(alist) - 1\n",
    "    found = False\n",
    "\n",
    "    while first <= last and not found:\n",
    "        midpoint = (first + last) // 2\n",
    "        if alist[midpoint] == item:\n",
    "            found = True\n",
    "        else:\n",
    "            if item < alist[midpoint]:\n",
    "                last = midpoint - 1\n",
    "            else:\n",
    "                first = midpoint + 1\n",
    "\n",
    "    return found\n",
    "\n",
    "print(Ordered_binary_Search([0, 1, 3, 8, 14, 18, 19, 34, 52], 3))\n",
    "print(Ordered_binary_Search([0, 1, 3, 8, 14, 18, 19, 34, 52], 17))"
   ]
  },
  {
   "cell_type": "code",
   "execution_count": 3,
   "id": "92b05f36",
   "metadata": {},
   "outputs": [
    {
     "name": "stdout",
     "output_type": "stream",
     "text": [
      "2\n"
     ]
    }
   ],
   "source": [
    "#3 Write a Python Program to find number of swaps required to sort the sequence.\n",
    "\n",
    "def minSwaps(arr):\n",
    "    n = len(arr)\n",
    "    arrpos = [*enumerate(arr)]\n",
    "    arrpos.sort(key = lambda it : it[1])\n",
    "    vis = {k : False for k in range(n)}\n",
    "    ans = 0\n",
    "    for i in range(n):\n",
    "        if vis[i] or arrpos[i][0] == i:\n",
    "            continue\n",
    "            \n",
    "        cycle_size = 0\n",
    "        j = i\n",
    "         \n",
    "        while not vis[j]:\n",
    "            vis[j] = True\n",
    "             \n",
    "            j = arrpos[j][0]\n",
    "            cycle_size += 1\n",
    "             \n",
    "        if cycle_size > 0:\n",
    "            ans += (cycle_size - 1)\n",
    "             \n",
    "    return ans\n",
    "  \n",
    "arr = [1, 5, 4, 3, 2]\n",
    "print(minSwaps(arr))"
   ]
  },
  {
   "cell_type": "code",
   "execution_count": 4,
   "id": "05a94f43",
   "metadata": {},
   "outputs": [
    {
     "name": "stdout",
     "output_type": "stream",
     "text": [
      "4\n"
     ]
    }
   ],
   "source": [
    "#4 Program to find out the number of shifts required to sort an array using insertion sort in python.\n",
    "\n",
    "temp = [0] * 100000\n",
    "\n",
    "def merge(A, left, mid, right):\n",
    "    \n",
    "    swaps = 0\n",
    " \n",
    "    i, j, k = left, mid, left\n",
    "     \n",
    "    while (i < mid and j <= right):\n",
    "         \n",
    "        if (A[i] <= A[j]):\n",
    "            temp[k] = A[i]\n",
    "            k, i = k + 1, i + 1\n",
    "        else:\n",
    "            temp[k] = A[j]\n",
    "            k, j = k + 1, j + 1\n",
    "            swaps += mid - i\n",
    " \n",
    "    while (i < mid):\n",
    "        temp[k] = A[i]\n",
    "        k, i = k + 1, i + 1\n",
    " \n",
    "    while (j <= right):\n",
    "        temp[k] = A[j]\n",
    "        k, j = k + 1, j + 1\n",
    " \n",
    "    while (left <= right):\n",
    "        A[left] = temp[left]\n",
    "        left += 1\n",
    " \n",
    "    return swaps\n",
    "\n",
    "def mergeInsertionSwap(A, left, right):\n",
    "    \n",
    "    swaps = 0\n",
    "     \n",
    "    if (left < right):\n",
    "        mid = left + (right - left) // 2\n",
    "        swaps += mergeInsertionSwap(A, left, mid)\n",
    "        swaps += mergeInsertionSwap(A, mid + 1, right)\n",
    "        swaps += merge(A, left, mid + 1, right)\n",
    " \n",
    "    return swaps\n",
    " \n",
    "if __name__ == '__main__':\n",
    "     \n",
    "    A = [ 2, 1, 3, 1, 2 ]\n",
    "    N = len(A)\n",
    "     \n",
    "    print (mergeInsertionSwap(A, 0, N - 1))"
   ]
  },
  {
   "cell_type": "code",
   "execution_count": 5,
   "id": "b6276a64",
   "metadata": {},
   "outputs": [
    {
     "name": "stdout",
     "output_type": "stream",
     "text": [
      "Sorted Array : \n",
      "[-202, -97, -9, -2, 0, 11, 45, 88, 747]\n"
     ]
    }
   ],
   "source": [
    "#5 Write a Python program to sort a list of elements using the selection sort algorithm.\n",
    "\n",
    "def selectionSort(array, size):\n",
    "    \n",
    "    for ind in range(size):\n",
    "        min_index = ind\n",
    " \n",
    "        for j in range(ind + 1, size):\n",
    "            if array[j] < array[min_index]:\n",
    "                min_index = j\n",
    "        (array[ind], array[min_index]) = (array[min_index], array[ind])\n",
    " \n",
    "arr = [-2, 45, 0, 11, -9,88,-97,-202,747]\n",
    "size = len(arr)\n",
    "selectionSort(arr, size)\n",
    "print('Sorted Array : ')\n",
    "print(arr)"
   ]
  },
  {
   "cell_type": "code",
   "execution_count": 6,
   "id": "d56e52dd",
   "metadata": {},
   "outputs": [
    {
     "name": "stdout",
     "output_type": "stream",
     "text": [
      "Given array is\n",
      "12 11 13 5 6 7 \n",
      "\n",
      "Sorted array is\n",
      "5 6 7 11 12 13 "
     ]
    }
   ],
   "source": [
    "#6 Write a Python program to sort a list of elements using the merge sort algorithm.\n",
    "\n",
    "def merge(arr, l, m, r):\n",
    "    n1 = m - l + 1\n",
    "    n2 = r - m\n",
    " \n",
    "    L = [0] * (n1)\n",
    "    R = [0] * (n2)\n",
    " \n",
    "    for i in range(0, n1):\n",
    "        L[i] = arr[l + i]\n",
    " \n",
    "    for j in range(0, n2):\n",
    "        R[j] = arr[m + 1 + j]\n",
    " \n",
    "    i = 0     \n",
    "    j = 0     \n",
    "    k = l     \n",
    " \n",
    "    while i < n1 and j < n2:\n",
    "        if L[i] <= R[j]:\n",
    "            arr[k] = L[i]\n",
    "            i += 1\n",
    "        else:\n",
    "            arr[k] = R[j]\n",
    "            j += 1\n",
    "        k += 1\n",
    "        \n",
    "    while i < n1:\n",
    "        arr[k] = L[i]\n",
    "        i += 1\n",
    "        k += 1\n",
    " \n",
    "    while j < n2:\n",
    "        arr[k] = R[j]\n",
    "        j += 1\n",
    "        k += 1\n",
    " \n",
    "def mergeSort(arr, l, r):\n",
    "    if l < r:\n",
    " \n",
    "        # Same as (l+r)//2, but avoids overflow for\n",
    "        # large l and h\n",
    "        m = l+(r-l)//2\n",
    " \n",
    "        # Sort first and second halves\n",
    "        mergeSort(arr, l, m)\n",
    "        mergeSort(arr, m+1, r)\n",
    "        merge(arr, l, m, r)\n",
    " \n",
    " \n",
    "# Driver code to test above\n",
    "arr = [12, 11, 13, 5, 6, 7]\n",
    "n = len(arr)\n",
    "print(\"Given array is\")\n",
    "for i in range(n):\n",
    "    print(\"%d\" % arr[i],end=\" \")\n",
    " \n",
    "mergeSort(arr, 0, n-1)\n",
    "print(\"\\n\\nSorted array is\")\n",
    "for i in range(n):\n",
    "    print(\"%d\" % arr[i],end=\" \")"
   ]
  }
 ],
 "metadata": {
  "kernelspec": {
   "display_name": "Python 3 (ipykernel)",
   "language": "python",
   "name": "python3"
  },
  "language_info": {
   "codemirror_mode": {
    "name": "ipython",
    "version": 3
   },
   "file_extension": ".py",
   "mimetype": "text/x-python",
   "name": "python",
   "nbconvert_exporter": "python",
   "pygments_lexer": "ipython3",
   "version": "3.9.12"
  }
 },
 "nbformat": 4,
 "nbformat_minor": 5
}
