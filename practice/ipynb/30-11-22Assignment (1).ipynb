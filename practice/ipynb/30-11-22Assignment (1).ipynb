{
 "cells": [
  {
   "cell_type": "code",
   "execution_count": 2,
   "metadata": {},
   "outputs": [
    {
     "name": "stdout",
     "output_type": "stream",
     "text": [
      "The original dictionary : {'Manjeet': [1, 4, 5, 6], 'Akash': [1, 8, 9], 'Nikhil': [10, 22, 4], 'Akshat': [5, 11, 22]}\n",
      "Uncommon elements records : {'Manjeet': [6], 'Akash': [8, 9], 'Nikhil': [10], 'Akshat': [11]}\n"
     ]
    }
   ],
   "source": [
    "#1 Write a Python program Remove duplicate values across Dictionary Values.\n",
    "# Input : test_dict = {‘Manjeet’: [1], ‘Akash’: [1, 8, 9]}\n",
    "# Output : {‘Manjeet’: [], ‘Akash’: [8, 9]}\n",
    "\n",
    "# Input : test_dict = {‘Manjeet’: [1, 1, 1], ‘Akash’: [1, 1, 1]}\n",
    "# Output : {‘Manjeet’: [], ‘Akash’: []}\n",
    "\n",
    "\n",
    "from collections import Counter\n",
    " \n",
    "# initializing dictionary\n",
    "test_dict = {'Manjeet': [1, 4, 5, 6],\n",
    "             'Akash': [1, 8, 9],\n",
    "             'Nikhil': [10, 22, 4],\n",
    "             'Akshat': [5, 11, 22]}\n",
    " \n",
    "# printing original dictionary\n",
    "print(\"The original dictionary : \" + str(test_dict))\n",
    " \n",
    "# Remove duplicate values across Dictionary Values\n",
    "# Using Counter() + list comprehension\n",
    "cnt = Counter()\n",
    "for idx in test_dict.values():\n",
    "    cnt.update(idx)\n",
    "res = {idx: [key for key in j if cnt[key] == 1]\n",
    "       for idx, j in test_dict.items()}\n",
    " \n",
    "# printing result\n",
    "print(\"Uncommon elements records : \" + str(res))"
   ]
  },
  {
   "cell_type": "code",
   "execution_count": 8,
   "metadata": {},
   "outputs": [
    {
     "name": "stdout",
     "output_type": "stream",
     "text": [
      " 1 :  5\n",
      " 5 :  2\n",
      " 3 :  3\n",
      " 4 :  3\n",
      " 2 :  4\n"
     ]
    }
   ],
   "source": [
    "#2 Write a Python program to Count the frequencies in a list using dictionary in Python.\n",
    "# Input : [1, 1, 1, 5, 5, 3, 1, 3, 3, 1,4, 4, 4, 2, 2, 2, 2]\n",
    "# Output : 1 : 5\n",
    "# 2 : 4\n",
    "# 3 : 3\n",
    "# 4 : 3\n",
    "# 5 : 2\n",
    "# Explanation : Here 1 occurs 5 times, 2\n",
    "# occurs 4 times and so on...\n",
    "\n",
    "my_list =[1, 1, 1, 5, 5, 3, 1, 3, 3, 1, 4, 4, 4, 2, 2, 2, 2]\n",
    "freq = {}\n",
    "for item in my_list:\n",
    "    if (item in freq):\n",
    "        freq[item] += 1\n",
    "    else:\n",
    "        freq[item] = 1\n",
    " \n",
    "for key, value in freq.items():\n",
    "    print (\"% d : % d\"%(key, value))"
   ]
  },
  {
   "cell_type": "code",
   "execution_count": 10,
   "metadata": {},
   "outputs": [
    {
     "name": "stdout",
     "output_type": "stream",
     "text": [
      "Python is great and Java also\n"
     ]
    }
   ],
   "source": [
    "#3 Write a Python program to remove all duplicates words from a given sentence.\n",
    "# Input : Python is great and Java is also great\n",
    "# Output : Python is great and Java also\n",
    "\n",
    "input = 'Python is great and Java is also great'\n",
    "input = input.split(\" \")\n",
    "\n",
    "Unique = Counter(input)\n",
    "s = \" \".join(Unique.keys())\n",
    "print (s)"
   ]
  }
 ],
 "metadata": {
  "kernelspec": {
   "display_name": "Python 3 (ipykernel)",
   "language": "python",
   "name": "python3"
  },
  "language_info": {
   "codemirror_mode": {
    "name": "ipython",
    "version": 3
   },
   "file_extension": ".py",
   "mimetype": "text/x-python",
   "name": "python",
   "nbconvert_exporter": "python",
   "pygments_lexer": "ipython3",
   "version": "3.9.12"
  },
  "vscode": {
   "interpreter": {
    "hash": "fa6fc890c19d0518efc3ca8fefe1ab7c2a921b84ac247755bf14d3f8c1bb1ece"
   }
  }
 },
 "nbformat": 4,
 "nbformat_minor": 2
}
