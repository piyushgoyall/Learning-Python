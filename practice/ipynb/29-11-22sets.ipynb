{
 "cells": [
  {
   "cell_type": "code",
   "execution_count": null,
   "metadata": {},
   "outputs": [],
   "source": [
    "# copy()\n",
    "# difference()\n",
    "# difference_update()\n",
    "# isdisjoint()\n",
    "# issubset()\n",
    "# issuperset()\n",
    "# remove()\n",
    "# symmetric_differnce()"
   ]
  },
  {
   "cell_type": "code",
   "execution_count": 3,
   "metadata": {},
   "outputs": [
    {
     "name": "stdout",
     "output_type": "stream",
     "text": [
      "{'Thu', 'Mon', 'Sun', 'Sat', 'Wed', 'Fri', 'Tue'}\n",
      "{'Mar', 'Jan', 'Feb'}\n",
      "{17, 21, 22}\n",
      "{'Thu', 'Wed', 'Fri', 'Mon', 'Sun', 'Tue', 'Sat'}\n"
     ]
    }
   ],
   "source": [
    "Days=set([\"Mon\",\"Tue\",\"Wed\",\"Thu\",\"Fri\",\"Sat\",\"Sun\"])\n",
    "Months=set({\"Jan\",\"Feb\",\"Mar\"})\n",
    "Dates=set({21,22,17})\n",
    "print(Days)\n",
    "print(Months)\n",
    "print(Dates)\n",
    "b = Days.copy()\n",
    "print(b)"
   ]
  },
  {
   "cell_type": "code",
   "execution_count": 6,
   "metadata": {},
   "outputs": [
    {
     "name": "stdout",
     "output_type": "stream",
     "text": [
      "{1, 2, 3, 4, 5}\n"
     ]
    }
   ],
   "source": [
    "#1 Write a Python program to create a set. \n",
    "\n",
    "s1 = set([1,2,3,4,5])\n",
    "print(s1)"
   ]
  },
  {
   "cell_type": "code",
   "execution_count": 19,
   "metadata": {},
   "outputs": [
    {
     "name": "stdout",
     "output_type": "stream",
     "text": [
      "33 66 11 44 77 22 55 88 \n",
      "i k C r h t a "
     ]
    }
   ],
   "source": [
    "#2 Write a Python program to iteration over sets.\n",
    "\n",
    "s2 = set([11,22,33,44,55,66,77,88])\n",
    "for i in s2:\n",
    "    print(i,end=\" \")\n",
    "print()\n",
    "s21 = set(\"Chitkara\")\n",
    "for i in s21:\n",
    "    print(i,end=\" \")"
   ]
  },
  {
   "cell_type": "code",
   "execution_count": 10,
   "metadata": {},
   "outputs": [
    {
     "name": "stdout",
     "output_type": "stream",
     "text": [
      "4995\n"
     ]
    }
   ],
   "source": [
    "#3 Write a Python program to add member(s) in a set. \n",
    "\n",
    "s3 = set([111,222,333,444,555,666,777,888,999])\n",
    "sum = 0\n",
    "for i in s3:\n",
    "    sum += i\n",
    "print(sum)"
   ]
  },
  {
   "cell_type": "code",
   "execution_count": 15,
   "metadata": {},
   "outputs": [
    {
     "name": "stdout",
     "output_type": "stream",
     "text": [
      "{70, 40, 80, 50, 20, 90, 60, 30}\n"
     ]
    }
   ],
   "source": [
    "#4 Write a Python program to remove item(s) from a given set\n",
    "\n",
    "s4 = set([10,20,30,40,50,60,70,80,90])\n",
    "s4.remove(10)\n",
    "print(s4)"
   ]
  },
  {
   "cell_type": "code",
   "execution_count": 3,
   "metadata": {},
   "outputs": [
    {
     "name": "stdout",
     "output_type": "stream",
     "text": [
      "Element not in set\n"
     ]
    }
   ],
   "source": [
    "#5 Write a Python program to remove an item from a set if it is present in the set. \n",
    "\n",
    "s4 = set([10,20,30,40,50,60,70,80,90])\n",
    "x = int(input())\n",
    "if x in s4:\n",
    "    s4.remove(x)\n",
    "    print(s4)\n",
    "else:\n",
    "    print(\"Element not in set\")"
   ]
  },
  {
   "cell_type": "code",
   "execution_count": 5,
   "metadata": {},
   "outputs": [
    {
     "name": "stdout",
     "output_type": "stream",
     "text": [
      "{770, 550, 880, 660, 440}\n"
     ]
    }
   ],
   "source": [
    "#6 Write a Python program to create an intersection of sets.\n",
    "\n",
    "s5 = set([110,220,330,440,550,660,770,880,990])\n",
    "s6 = set([440,550,660,770,880])\n",
    "print(s5&s6)"
   ]
  },
  {
   "cell_type": "code",
   "execution_count": 7,
   "metadata": {},
   "outputs": [
    {
     "name": "stdout",
     "output_type": "stream",
     "text": [
      "{707, 101, 808, 202, 909, 303, 404, 505, 606}\n"
     ]
    }
   ],
   "source": [
    "#7 Write a Python program to create a union of sets. \n",
    "\n",
    "s7 = set([101,202,303,404,505])\n",
    "s8 = set([606,707,808,909])\n",
    "print(s7^s8)"
   ]
  },
  {
   "cell_type": "code",
   "execution_count": 10,
   "metadata": {},
   "outputs": [
    {
     "name": "stdout",
     "output_type": "stream",
     "text": [
      "{1030, 1040, 1010, 1050, 1020}\n",
      "{1080, 1090, 1060, 1070}\n"
     ]
    }
   ],
   "source": [
    "#8 Write a Python program to create set difference. \n",
    "\n",
    "s9 = set([1010,1020,1030,1040,1050])\n",
    "s10 = set([1060,1070,1080,1090])\n",
    "print(s9.difference(s10))\n",
    "print(s10.difference(s9))"
   ]
  },
  {
   "cell_type": "code",
   "execution_count": 12,
   "metadata": {},
   "outputs": [
    {
     "name": "stdout",
     "output_type": "stream",
     "text": [
      "{500, 501, 502, 506, 507, 508}\n"
     ]
    }
   ],
   "source": [
    "#9 Write a Python program to create a symmetric difference.\n",
    "\n",
    "s11 = set([500,501,502,503,504,505])\n",
    "s12 = set([503,504,505,506,507,508])\n",
    "print(s11.symmetric_difference(s12))"
   ]
  }
 ],
 "metadata": {
  "kernelspec": {
   "display_name": "Python 3 (ipykernel)",
   "language": "python",
   "name": "python3"
  },
  "language_info": {
   "codemirror_mode": {
    "name": "ipython",
    "version": 3
   },
   "file_extension": ".py",
   "mimetype": "text/x-python",
   "name": "python",
   "nbconvert_exporter": "python",
   "pygments_lexer": "ipython3",
   "version": "3.9.12"
  },
  "vscode": {
   "interpreter": {
    "hash": "fa6fc890c19d0518efc3ca8fefe1ab7c2a921b84ac247755bf14d3f8c1bb1ece"
   }
  }
 },
 "nbformat": 4,
 "nbformat_minor": 2
}
