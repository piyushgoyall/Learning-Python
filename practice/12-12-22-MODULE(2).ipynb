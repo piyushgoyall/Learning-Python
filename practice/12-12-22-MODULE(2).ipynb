{
 "cells": [
  {
   "cell_type": "code",
   "execution_count": 1,
   "id": "b24042c0",
   "metadata": {},
   "outputs": [
    {
     "name": "stdout",
     "output_type": "stream",
     "text": [
      "Generate a random color hex:\n",
      "#53286a\n",
      "\n",
      "Generate a random alphabetical string:\n",
      "pBHToQFXySzfGLdUfHZelwXltnUACOLyLHeSOdYjHrqRIUtbfWJnheasnlCWzVOV\n",
      "Generate a random value between two integers, inclusive:\n",
      "0\n",
      "5\n",
      "1\n",
      "Generate a random multiple of 7 between 0 and 70:\n",
      "28\n"
     ]
    }
   ],
   "source": [
    "#1 Write a Python program to generate a random color hex, a random alphabetical string,\n",
    "# random value between two integers (inclusive) and a random multiple of 7 between 0\n",
    "# and 70. Use random.randint().\n",
    "\n",
    "import random\n",
    "import string\n",
    "print(\"Generate a random color hex:\")\n",
    "print(\"#{:06x}\".format(random.randint(0, 0xFFFFFF)))\n",
    "print(\"\\nGenerate a random alphabetical string:\")\n",
    "max_length = 255\n",
    "s = \"\"\n",
    "for i in range(random.randint(1, max_length)):\n",
    "    s += random.choice(string.ascii_letters)\n",
    "print(s)\n",
    "print(\"Generate a random value between two integers, inclusive:\")\n",
    "print(random.randint(0, 10))\n",
    "print(random.randint(-7, 7))\n",
    "print(random.randint(1, 1))\n",
    "print(\"Generate a random multiple of 7 between 0 and 70:\")\n",
    "print(random.randint(0, 10) * 7)"
   ]
  },
  {
   "cell_type": "code",
   "execution_count": 2,
   "id": "101ac4fd",
   "metadata": {},
   "outputs": [
    {
     "name": "stdout",
     "output_type": "stream",
     "text": [
      "Select a random element from a list:\n",
      "5\n",
      "2\n",
      "3\n",
      "\n",
      "Select a random element from a set:\n",
      "4\n",
      "4\n",
      "5\n",
      "\n",
      "Select a random value from a dictionary:\n",
      "4\n",
      "2\n",
      "4\n",
      "\n",
      "Select a random file from a directory.:\n",
      "Python exams\n"
     ]
    }
   ],
   "source": [
    "#2 Write a Python program to select a random element from a list, set, dictionary (value)\n",
    "# and a file from a directory. Use random.choice().\n",
    "\n",
    "import random\n",
    "import os\n",
    "print(\"Select a random element from a list:\")\n",
    "elements = [1, 2, 3, 4, 5]\n",
    "print(random.choice(elements))\n",
    "print(random.choice(elements))\n",
    "print(random.choice(elements))\n",
    "print(\"\\nSelect a random element from a set:\")\n",
    "elements = set([1, 2, 3, 4, 5])\n",
    "# convert to tuple because sets are invalid inputs\n",
    "print(random.choice(tuple(elements)))\n",
    "print(random.choice(tuple(elements)))\n",
    "print(random.choice(tuple(elements)))\n",
    "print(\"\\nSelect a random value from a dictionary:\")\n",
    "d = {\"a\": 1, \"b\": 2, \"c\": 3, \"d\": 4, \"e\": 5}\n",
    "key = random.choice(list(d))\n",
    "print(d[key])\n",
    "key = random.choice(list(d))\n",
    "print(d[key])\n",
    "key = random.choice(list(d))\n",
    "print(d[key]) \n",
    "print(\"\\nSelect a random file from a directory.:\")\n",
    "print(random.choice(os.listdir(\"/\")))"
   ]
  },
  {
   "cell_type": "code",
   "execution_count": 6,
   "id": "0fe6e6a8",
   "metadata": {},
   "outputs": [
    {
     "name": "stdout",
     "output_type": "stream",
     "text": [
      "Generate a random alphabetical character:\n",
      "d\n",
      "\n",
      "Generate a random alphabetical string:\n",
      "JmevmahHChMTrEZfbWJCDpBptBsYrEvRolxgRjNTtKNOqrfOZJlIZeCwrPWBozBppoffIVrbCfIAipMsbGItFjDkjFGSkUkMYBuWJlAwWXephFHsklaCVjhRXNsclhwBOLlJqyIFRsGTGupncDLyYlmFcwmHdbeGvYlmVFvfduaFIQEBBYZP\n",
      "\n",
      "Generate a random alphabetical string of a fixed length:\n",
      "jHgEEiZJIx\n"
     ]
    }
   ],
   "source": [
    "#3 Write a Python program to generate a random alphabetical character, alphabetical string and alphabetical string of \n",
    "# a fixed length. Use random.choice()\n",
    "\n",
    "import random\n",
    "import string\n",
    "print(\"Generate a random alphabetical character:\")\n",
    "print(random.choice(string.ascii_letters))\n",
    "print(\"\\nGenerate a random alphabetical string:\")\n",
    "max_length = 255\n",
    "str1 = \"\"\n",
    "for i in range(random.randint(1, max_length)):\n",
    "    str1 += random.choice(string.ascii_letters)\n",
    "print(str1)\n",
    "print(\"\\nGenerate a random alphabetical string of a fixed length:\")\n",
    "str1 = \"\"\n",
    "for i in range(10):\n",
    "    str1 += random.choice(string.ascii_letters)\n",
    "print(str1)"
   ]
  },
  {
   "cell_type": "code",
   "execution_count": 3,
   "id": "e98d1a0f",
   "metadata": {},
   "outputs": [
    {
     "name": "stdout",
     "output_type": "stream",
     "text": [
      "Construct a seeded random number generator:\n",
      "0.9033114640910079\n",
      "0.8444218515250481\n",
      "\n",
      "Generate a float between 0 and 1, excluding 1:\n",
      "0.6217673120381598\n"
     ]
    }
   ],
   "source": [
    "#4 Write a Python program to construct a seeded random number generator, also\n",
    "# generate a float between 0 and 1, excluding 1. Use random.random().\n",
    "\n",
    "import random\n",
    "print(\"Construct a seeded random number generator:\")\n",
    "print(random.Random().random())\n",
    "print(random.Random(0).random())\n",
    "print(\"\\nGenerate a float between 0 and 1, excluding 1:\")\n",
    "print(random.random())"
   ]
  },
  {
   "cell_type": "code",
   "execution_count": 4,
   "id": "8e3de638",
   "metadata": {},
   "outputs": [
    {
     "name": "stdout",
     "output_type": "stream",
     "text": [
      "Generate a random integer between 0 and 6:\n",
      "4\n",
      "Generate random integer between 5 and 10, excluding 10:\n",
      "6\n",
      "Generate random integer between 0 and 10, with a step of 3:\n",
      "9\n",
      "\n",
      "Random date between two dates:\n",
      "2019-02-07\n"
     ]
    }
   ],
   "source": [
    "#5 Write a Python program to generate a random integer between 0 and 6 - excluding 6,\n",
    "# random integer between 5 and 10 - excluding 10, random integer between 0 and 10,\n",
    "# with a step of 3 and random date between two dates. Use random.randrange().\n",
    "\n",
    "import random\n",
    "import datetime\n",
    "print(\"Generate a random integer between 0 and 6:\")\n",
    "print(random.randrange(5))\n",
    "print(\"Generate random integer between 5 and 10, excluding 10:\")\n",
    "print(random.randrange(start=5, stop=10))\n",
    "print(\"Generate random integer between 0 and 10, with a step of 3:\")\n",
    "print(random.randrange(start=0, stop=10, step=3))\n",
    "print(\"\\nRandom date between two dates:\")\n",
    "start_dt = datetime.date(2019, 2, 1)\n",
    "end_dt = datetime.date(2019, 3, 1)\n",
    "time_between_dates = end_dt - start_dt\n",
    "days_between_dates = time_between_dates.days\n",
    "random_number_of_days = random.randrange(days_between_dates)\n",
    "random_date = start_dt + datetime.timedelta(days=random_number_of_days)\n",
    "print(random_date)"
   ]
  },
  {
   "cell_type": "code",
   "execution_count": 7,
   "id": "0bd1b6d0",
   "metadata": {},
   "outputs": [
    {
     "name": "stdout",
     "output_type": "stream",
     "text": [
      "Original list:\n",
      "[1, 2, 3, 4, 5]\n",
      "Shuffle list:\n",
      "[4, 1, 2, 5, 3]\n",
      "\n",
      "Original list:\n",
      "['red', 'black', 'green', 'blue']\n",
      "Shuffle list:\n",
      "['red', 'green', 'blue', 'black']\n"
     ]
    }
   ],
   "source": [
    "#6 Write a Python program to shuffle the elements of a given list. Use random.shuffle()\n",
    "\n",
    "import random \n",
    "nums = [1, 2, 3, 4, 5]\n",
    "print(\"Original list:\")\n",
    "print(nums)\n",
    "random.shuffle(nums)\n",
    "print(\"Shuffle list:\")\n",
    "print(nums)\n",
    "words = ['red', 'black', 'green', 'blue']\n",
    "print(\"\\nOriginal list:\")\n",
    "print(words)\n",
    "random.shuffle(words)\n",
    "print(\"Shuffle list:\")\n",
    "print(words)"
   ]
  },
  {
   "cell_type": "code",
   "execution_count": 8,
   "id": "dd3e5fdb",
   "metadata": {},
   "outputs": [
    {
     "name": "stdout",
     "output_type": "stream",
     "text": [
      "Generate a float between 0 and 1, inclusive:\n",
      "0.09873254347458427\n",
      "\n",
      "Generate a random float within a range:\n",
      "1.5091935262140637\n"
     ]
    }
   ],
   "source": [
    "#7 Write a Python program to generate a float between 0 and 1, inclusive and generate a random float within a specific range. \n",
    "# Use random.uniform()\n",
    "\n",
    "import random \n",
    "print(\"Generate a float between 0 and 1, inclusive:\")\n",
    "print(random.uniform(0, 1))\n",
    "print(\"\\nGenerate a random float within a range:\")\n",
    "random_float = random.uniform(1.0, 3.0)\n",
    "print(random_float)"
   ]
  },
  {
   "cell_type": "code",
   "execution_count": 9,
   "id": "29cef2a3",
   "metadata": {},
   "outputs": [
    {
     "name": "stdout",
     "output_type": "stream",
     "text": [
      "Create a list of random integers:\n",
      "[61, 56, 15, 51, 40, 17, 14, 11, 6, 20]\n",
      "\n",
      "Randomly select 4 multiple items from the said list:\n",
      "[61, 56, 6, 51]\n",
      "\n",
      "Randomly select 8 multiple items from the said list:\n",
      "[6, 61, 51, 20, 14, 17, 40, 15]\n"
     ]
    }
   ],
   "source": [
    "#8 Write a Python program to create a list of random integers and randomly select multiple items from the said list. \n",
    "# Use random.sample()\n",
    "\n",
    "import random \n",
    "print(\"Create a list of random integers:\")\n",
    "population = range(0, 100)\n",
    "nums_list = random.sample(population, 10)\n",
    "print(nums_list)\n",
    "no_elements = 4\n",
    "print(\"\\nRandomly select\",no_elements,\"multiple items from the said list:\")\n",
    "result_elements = random.sample(nums_list, no_elements)\n",
    "print(result_elements)\n",
    "no_elements = 8\n",
    "print(\"\\nRandomly select\",no_elements,\"multiple items from the said list:\")\n",
    "result_elements = random.sample(nums_list, no_elements)\n",
    "print(result_elements)"
   ]
  },
  {
   "cell_type": "code",
   "execution_count": 11,
   "id": "a53e1c16",
   "metadata": {},
   "outputs": [
    {
     "name": "stdout",
     "output_type": "stream",
     "text": [
      "Set a random seed and get a random number between 0 and 1:\n",
      "0.8444218515250481\n",
      "0.13436424411240122\n",
      "0.9560342718892494\n"
     ]
    }
   ],
   "source": [
    "#9 Write a Python program to set a random seed and get a random number between 0 and 1. Use random.random.\n",
    "\n",
    "import random \n",
    "print(\"Set a random seed and get a random number between 0 and 1:\")\n",
    "random.seed(0)\n",
    "new_random_value = random.random()\n",
    "print(new_random_value)\n",
    "random.seed(1)\n",
    "new_random_value = random.random()\n",
    "print(new_random_value)\n",
    "random.seed(2)\n",
    "new_random_value = random.random()\n",
    "print(new_random_value)"
   ]
  },
  {
   "cell_type": "markdown",
   "id": "fd59d251",
   "metadata": {},
   "source": [
    "# Module - types"
   ]
  },
  {
   "cell_type": "code",
   "execution_count": 12,
   "id": "795ae7ff",
   "metadata": {},
   "outputs": [
    {
     "name": "stdout",
     "output_type": "stream",
     "text": [
      "True\n",
      "True\n",
      "True\n",
      "True\n",
      "False\n",
      "False\n",
      "False\n",
      "False\n"
     ]
    }
   ],
   "source": [
    "#1 Write a Python program to check if a function is a user-defined function or not. Use types.FunctionType, \n",
    "# types.LambdaType()\n",
    "\n",
    "import types\n",
    "def func(): \n",
    "    return 1\n",
    "\n",
    "print(isinstance(func, types.FunctionType))\n",
    "print(isinstance(func, types.LambdaType))\n",
    "print(isinstance(lambda x: x, types.FunctionType))\n",
    "print(isinstance(lambda x: x, types.LambdaType))\n",
    "print(isinstance(max, types.FunctionType))\n",
    "print(isinstance(max, types.LambdaType))\n",
    "print(isinstance(abs, types.FunctionType))\n",
    "print(isinstance(abs, types.LambdaType))\n"
   ]
  },
  {
   "cell_type": "code",
   "execution_count": 13,
   "id": "e58d1d00",
   "metadata": {},
   "outputs": [
    {
     "name": "stdout",
     "output_type": "stream",
     "text": [
      "True\n",
      "True\n",
      "False\n",
      "False\n",
      "False\n"
     ]
    }
   ],
   "source": [
    "#2 Write a Python program to check if a given value is a method of a user-defined class. Use types.MethodType()\n",
    "\n",
    "import types\n",
    "class C:\n",
    "    def x():\n",
    "        return 1\n",
    "    def y():\n",
    "        return 1    \n",
    "        \n",
    "def b():\n",
    "    return 2\n",
    "\n",
    "print(isinstance(C().x, types.MethodType))\n",
    "print(isinstance(C().y, types.MethodType))\n",
    "print(isinstance(b, types.MethodType))\n",
    "print(isinstance(max, types.MethodType))\n",
    "print(isinstance(abs, types.MethodType))"
   ]
  },
  {
   "cell_type": "code",
   "execution_count": 14,
   "id": "e1793991",
   "metadata": {},
   "outputs": [
    {
     "name": "stdout",
     "output_type": "stream",
     "text": [
      "True\n",
      "False\n",
      "False\n"
     ]
    }
   ],
   "source": [
    "#3 Write a Python program to check if a given function is a generator or not. Use types.GeneratorType()\n",
    "\n",
    "import types\n",
    "def a(x):\n",
    "    yield x\n",
    "        \n",
    "def b(x):\n",
    "    return x\n",
    "\n",
    "def add(x, y):\n",
    "    return x + y\n",
    "\n",
    "print(isinstance(a(456), types.GeneratorType))\n",
    "print(isinstance(b(823), types.GeneratorType))\n",
    "print(isinstance(add(8,2), types.GeneratorType))\n"
   ]
  },
  {
   "cell_type": "code",
   "execution_count": 15,
   "id": "af3df258",
   "metadata": {},
   "outputs": [
    {
     "name": "stdout",
     "output_type": "stream",
     "text": [
      "Check if a given value is compiled code:\n",
      "True\n",
      "False\n",
      "\n",
      "Check if a given value is a module:\n",
      "True\n"
     ]
    }
   ],
   "source": [
    "#4 Write a Python program to check if a given value is compiled code or not. \n",
    "# Also check if a given value is a module or not. Use types.CodeType, types.ModuleType()\n",
    "\n",
    "import types\n",
    "print(\"Check if a given value is compiled code:\")\n",
    "code = compile(\"print('Hello')\", \"sample\", \"exec\")\n",
    "print(isinstance(code, types.CodeType))\n",
    "print(isinstance(\"print(abs(-111))\", types.CodeType))\n",
    "print(\"\\nCheck if a given value is a module:\")\n",
    "print(isinstance(types, types.ModuleType))"
   ]
  },
  {
   "cell_type": "markdown",
   "id": "7c957684",
   "metadata": {},
   "source": [
    "# Module - decimal"
   ]
  },
  {
   "cell_type": "code",
   "execution_count": 16,
   "id": "754a9521",
   "metadata": {},
   "outputs": [
    {
     "name": "stdout",
     "output_type": "stream",
     "text": [
      "Construct a Decimal from a float:\n",
      "3.14158999999999988261834005243144929409027099609375\n",
      "DecimalTuple(sign=0, digits=(3, 1, 4, 1, 5, 8, 9, 9, 9, 9, 9, 9, 9, 9, 9, 9, 8, 8, 2, 6, 1, 8, 3, 4, 0, 0, 5, 2, 4, 3, 1, 4, 4, 9, 2, 9, 4, 0, 9, 0, 2, 7, 0, 9, 9, 6, 0, 9, 3, 7, 5), exponent=-50)\n",
      "\n",
      "Construct a Decimal from a string:\n",
      "123.25\n",
      "DecimalTuple(sign=0, digits=(1, 2, 3, 2, 5), exponent=-2)\n"
     ]
    }
   ],
   "source": [
    "#1 Write a Python program to construct a Decimal from a float and a Decimal from a string. \n",
    "# Also represent the Decimal value as a tuple. Use decimal.Decimal\n",
    "\n",
    "import decimal\n",
    "print(\"Construct a Decimal from a float:\")\n",
    "pi_val = decimal.Decimal(3.14159)\n",
    "print(pi_val)\n",
    "print(pi_val.as_tuple())\n",
    "print(\"\\nConstruct a Decimal from a string:\")\n",
    "num_str = decimal.Decimal(\"123.25\")\n",
    "print(num_str)\n",
    "print(num_str.as_tuple())"
   ]
  },
  {
   "cell_type": "code",
   "execution_count": 17,
   "id": "ffb6dfb5",
   "metadata": {},
   "outputs": [
    {
     "name": "stdout",
     "output_type": "stream",
     "text": [
      "Configure the rounding to round up:\n",
      "8\n",
      "\n",
      "Configure the rounding to round down:\n",
      "7.5\n",
      "\n",
      "Configure the rounding to round up:\n",
      "8.33\n",
      "\n",
      "Configure the rounding to round down:\n",
      "8.32\n"
     ]
    }
   ],
   "source": [
    "#2 Write a Python program to configure the rounding to round up and round down a given decimal value. Use decimal.Decimal\n",
    "\n",
    "import decimal\n",
    "print(\"Configure the rounding to round up:\")\n",
    "decimal.getcontext().prec = 1\n",
    "decimal.getcontext().rounding = decimal.ROUND_UP\n",
    "print(decimal.Decimal(30) / decimal.Decimal(4))\n",
    "print(\"\\nConfigure the rounding to round down:\")\n",
    "decimal.getcontext().prec = 3\n",
    "decimal.getcontext().rounding = decimal.ROUND_DOWN\n",
    "print(decimal.Decimal(30) / decimal.Decimal(4))\n",
    "print(\"\\nConfigure the rounding to round up:\")\n",
    "print(decimal.Decimal('8.325').quantize(decimal.Decimal('.01'), rounding=decimal.ROUND_UP))\n",
    "print(\"\\nConfigure the rounding to round down:\")\n",
    "print(decimal.Decimal('8.325').quantize(decimal.Decimal('.01'), rounding=decimal.ROUND_DOWN))"
   ]
  },
  {
   "cell_type": "code",
   "execution_count": 18,
   "id": "743290bb",
   "metadata": {},
   "outputs": [
    {
     "name": "stdout",
     "output_type": "stream",
     "text": [
      "0.80 rounds to 0.80\n",
      "0.81 rounds to 0.80\n",
      "0.82 rounds to 0.80\n",
      "0.83 rounds to 0.80\n",
      "0.84 rounds to 0.80\n",
      "0.85 rounds to 0.85\n",
      "0.86 rounds to 0.90\n",
      "0.87 rounds to 0.90\n",
      "0.88 rounds to 0.90\n",
      "0.89 rounds to 0.90\n",
      "0.90 rounds to 0.90\n",
      "0.91 rounds to 0.90\n",
      "0.92 rounds to 0.90\n",
      "0.93 rounds to 0.90\n",
      "0.94 rounds to 0.90\n",
      "0.95 rounds to 0.95\n",
      "0.96 rounds to 1.00\n",
      "0.97 rounds to 1.00\n",
      "0.98 rounds to 1.00\n",
      "0.99 rounds to 1.00\n",
      "1.00 rounds to 1.00\n",
      "1.01 rounds to 1.00\n",
      "1.02 rounds to 1.00\n",
      "1.03 rounds to 1.00\n",
      "1.04 rounds to 1.00\n",
      "1.05 rounds to 1.05\n",
      "1.06 rounds to 1.10\n",
      "1.07 rounds to 1.10\n",
      "1.08 rounds to 1.10\n",
      "1.09 rounds to 1.10\n",
      "1.10 rounds to 1.10\n",
      "1.11 rounds to 1.10\n",
      "1.12 rounds to 1.10\n",
      "1.13 rounds to 1.10\n",
      "1.14 rounds to 1.10\n",
      "1.15 rounds to 1.15\n",
      "1.16 rounds to 1.20\n",
      "1.17 rounds to 1.20\n",
      "1.18 rounds to 1.20\n",
      "1.19 rounds to 1.20\n"
     ]
    }
   ],
   "source": [
    "#3 Write a Python program to round a Decimal value to the nearest multiple of 0.10, unless already an exact multiple of 0.05. \n",
    "# Use decimal.Decimal\n",
    "\n",
    "from decimal import Decimal\n",
    "#Source: https://bit.ly/3hEyyY4\n",
    "\n",
    "def round_to_10_cents(x):\n",
    "    remainder = x.remainder_near(Decimal('0.10'))\n",
    "    if abs(remainder) == Decimal('0.05'):\n",
    "        return x\n",
    "    else:\n",
    "        return x - remainder\n",
    "\n",
    "# Test code.\n",
    "for x in range(80, 120):\n",
    "    y = Decimal(x) / Decimal('1E2')\n",
    "    print(\"{0} rounds to {1}\".format(y, round_to_10_cents(y)))\n"
   ]
  },
  {
   "cell_type": "code",
   "execution_count": 19,
   "id": "234c87ef",
   "metadata": {},
   "outputs": [
    {
     "name": "stdout",
     "output_type": "stream",
     "text": [
      "Configure the rounding to round to the floor:\n",
      "3.333\n",
      "\n",
      "Configure the rounding to round to the ceiling:\n",
      "3.334\n"
     ]
    }
   ],
   "source": [
    "#4 Write a Python program to configure the rounding to round to the floor, ceiling. \n",
    "# Use decimal.ROUND_FLOOR, decimal.ROUND_CEILING\n",
    "\n",
    "import decimal\n",
    "print(\"Configure the rounding to round to the floor:\")\n",
    "decimal.getcontext().prec = 4\n",
    "decimal.getcontext().rounding = decimal.ROUND_FLOOR\n",
    "print(decimal.Decimal(20) / decimal.Decimal(6))\n",
    "print(\"\\nConfigure the rounding to round to the ceiling:\")\n",
    "decimal.getcontext().prec = 4\n",
    "decimal.getcontext().rounding = decimal.ROUND_CEILING\n",
    "print(decimal.Decimal(20) / decimal.Decimal(6))"
   ]
  },
  {
   "cell_type": "code",
   "execution_count": 1,
   "id": "85b92098",
   "metadata": {},
   "outputs": [
    {
     "name": "stdout",
     "output_type": "stream",
     "text": [
      "Configure the rounding to round to the nearest, with ties going towards 0:\n",
      "2\n",
      "\n",
      "Configure the rounding to round to the nearest, with ties going away from 0:\n",
      "3\n"
     ]
    }
   ],
   "source": [
    "#5 Write a Python program to configure the rounding to round to the nearest - with ties going towards 0, with ties \n",
    "# going away from 0. Use decimal.ROUND_HALF_DOWN, decimal.ROUND_HALF_UP\n",
    "\n",
    "import decimal\n",
    "print(\"Configure the rounding to round to the nearest, with ties going towards 0:\")\n",
    "decimal.getcontext().prec = 1\n",
    "decimal.getcontext().rounding = decimal.ROUND_HALF_DOWN\n",
    "print(decimal.Decimal(10) / decimal.Decimal(4))\n",
    "print(\"\\nConfigure the rounding to round to the nearest, with ties going away from 0:\")\n",
    "decimal.getcontext().prec = 1\n",
    "decimal.getcontext().rounding = decimal.ROUND_HALF_UP\n",
    "print(decimal.Decimal(10) / decimal.Decimal(4))"
   ]
  }
 ],
 "metadata": {
  "kernelspec": {
   "display_name": "Python 3 (ipykernel)",
   "language": "python",
   "name": "python3"
  },
  "language_info": {
   "codemirror_mode": {
    "name": "ipython",
    "version": 3
   },
   "file_extension": ".py",
   "mimetype": "text/x-python",
   "name": "python",
   "nbconvert_exporter": "python",
   "pygments_lexer": "ipython3",
   "version": "3.9.12"
  }
 },
 "nbformat": 4,
 "nbformat_minor": 5
}
