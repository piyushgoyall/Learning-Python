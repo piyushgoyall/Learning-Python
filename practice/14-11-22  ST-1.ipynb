{
 "cells": [
  {
   "cell_type": "code",
   "execution_count": 4,
   "id": "2c831b54",
   "metadata": {},
   "outputs": [
    {
     "name": "stdout",
     "output_type": "stream",
     "text": [
      "10\n",
      "1\n",
      "2\n",
      "3\n",
      "4\n",
      "5\n",
      "3\n",
      "4\n",
      "5\n",
      "6\n",
      "2\n",
      "1 1\n",
      "2 2\n",
      "3 2\n",
      "4 2\n",
      "5 2\n",
      "6 1\n"
     ]
    }
   ],
   "source": [
    "# Tina went to a fruit market to buy some fruits. She filled her fruit basket with different types of fruits all\n",
    "# together. But the vendor now asked Tina to separate each type of fruit and count them, so that he can make\n",
    "# the bill. Each type of fruit has a particular number written on it. Tina finds it difficult to do so. Help her to\n",
    "# count the number of fruits of each type.\n",
    "# You have given a list A of size N, which stores the number written on each fruit in the basket. Your task it to\n",
    "# count the number of fruits of each type.\n",
    "\n",
    "N = int(input())\n",
    "li1 = []\n",
    "li2 = []\n",
    "for i in range(0,N):\n",
    "    element = int(input())\n",
    "    li1.append(element)\n",
    "    \n",
    "for i in li1:\n",
    "    if i not in li2:\n",
    "        li2.append(i)\n",
    "for i in li2:\n",
    "    count = 0\n",
    "    for j in li1:\n",
    "        if i == j:\n",
    "            count += 1\n",
    "    print(i,count)"
   ]
  },
  {
   "cell_type": "code",
   "execution_count": 6,
   "id": "0f758345",
   "metadata": {},
   "outputs": [
    {
     "name": "stdout",
     "output_type": "stream",
     "text": [
      "10\n",
      "1\n",
      "2\n",
      "3\n",
      "4\n",
      "5\n",
      "6\n",
      "7\n",
      "8\n",
      "4\n",
      "5\n",
      "7 8\n"
     ]
    }
   ],
   "source": [
    "# Rohan and Ajay are playing a game. The game says, they have been given a list of numbers and they have to find out\n",
    "# a pair in the list having maximum sum. Ajay is confused and is not able to find the required pair, help him to find the\n",
    "# solution.\n",
    "# You have given a list A containing N elements. Your task is to find the pair of numbers in the list\n",
    "# having maximum sum.\n",
    "# Write a python program which takes the size N and the list A as input and print the maximum sum\n",
    "# pair separated by space as the output.\n",
    "\n",
    "N = int(input())\n",
    "li = []\n",
    "for i in range(0,N):\n",
    "    el = int(input())\n",
    "    li.append(el)\n",
    "maximum = -2**31\n",
    "for i in  range(N):\n",
    "    for  j in range(i+1,N):\n",
    "        if li[i] + li[j] > maximum:\n",
    "            maximum = li[i]+li[j]\n",
    "for i in  range(N):\n",
    "    for  j in range(i+1,N):\n",
    "        if li[i] + li[j] == maximum:\n",
    "            print(li[i],li[j])\n",
    "            break"
   ]
  },
  {
   "cell_type": "code",
   "execution_count": 7,
   "id": "d2036861",
   "metadata": {},
   "outputs": [
    {
     "name": "stdout",
     "output_type": "stream",
     "text": [
      "5\n",
      "4\n",
      "2\n",
      "4\n",
      "3\n",
      "4\n",
      "3\n"
     ]
    }
   ],
   "source": [
    "# You are in-charge of the cake for your niece&#39;s birthday and have decided the cake will have one candle for\n",
    "# each year of her total age. When she blows out the candles, she’ll only be able to blow out the tallest ones.\n",
    "# For example, if your niece is turning 5 years old, and the cake will have candles of height 4,2,4,3,4 she will\n",
    "# be able to blow out 3 candles successfully, since the tallest candle is of height 4 and there are 3 such candles.\n",
    "# Given the height of each individual candle, find and print the number of candles she can successfully blow\n",
    "# out.\n",
    "\n",
    "n=int(input()) \n",
    "l=[] \n",
    "maxx = 0 \n",
    "for i in range(0,n):\n",
    "    l.append(int(input()))\n",
    "\n",
    "for i in range(len(l)): \n",
    "    if(l[i] > maxx):\n",
    "        maxx = l[i]\n",
    "count = 0 \n",
    "for j in range(len(l)):\n",
    "    if l[j] == maxx:\n",
    "        count = count+1\n",
    "print(count) "
   ]
  }
 ],
 "metadata": {
  "kernelspec": {
   "display_name": "Python 3 (ipykernel)",
   "language": "python",
   "name": "python3"
  },
  "language_info": {
   "codemirror_mode": {
    "name": "ipython",
    "version": 3
   },
   "file_extension": ".py",
   "mimetype": "text/x-python",
   "name": "python",
   "nbconvert_exporter": "python",
   "pygments_lexer": "ipython3",
   "version": "3.9.12"
  }
 },
 "nbformat": 4,
 "nbformat_minor": 5
}
