{
 "cells": [
  {
   "cell_type": "code",
   "execution_count": 2,
   "id": "f9f597a2",
   "metadata": {},
   "outputs": [
    {
     "name": "stdout",
     "output_type": "stream",
     "text": [
      "Generate a random color hex:\n",
      "#aab8f9\n",
      "\n",
      "Generate a random alphabetical string:\n",
      "UbIOfyTZeIkMoks\n",
      "Generate a random value between two integers, inclusive:\n",
      "6\n",
      "0\n",
      "1\n",
      "Generate a random multiple of 7 between 0 and 70:\n",
      "0\n"
     ]
    }
   ],
   "source": [
    "#1 Write a Python program to generate a random color hex, a random alphabetical string,\n",
    "# random value between two integers (inclusive) and a random multiple of 7 between 0\n",
    "# and 70. Use random.randint().\n",
    "\n",
    "import random\n",
    "import string\n",
    "print(\"Generate a random color hex:\")\n",
    "print(\"#{:06x}\".format(random.randint(0, 0xFFFFFF)))\n",
    "print(\"\\nGenerate a random alphabetical string:\")\n",
    "max_length = 255\n",
    "s = \"\"\n",
    "for i in range(random.randint(1, max_length)):\n",
    "    s += random.choice(string.ascii_letters)\n",
    "print(s)\n",
    "print(\"Generate a random value between two integers, inclusive:\")\n",
    "print(random.randint(0, 10))\n",
    "print(random.randint(-7, 7))\n",
    "print(random.randint(1, 1))\n",
    "print(\"Generate a random multiple of 7 between 0 and 70:\")\n",
    "print(random.randint(0, 10) * 7)"
   ]
  },
  {
   "cell_type": "code",
   "execution_count": 3,
   "id": "6620df41",
   "metadata": {},
   "outputs": [
    {
     "name": "stdout",
     "output_type": "stream",
     "text": [
      "Select a random element from a list:\n",
      "3\n",
      "1\n",
      "4\n",
      "\n",
      "Select a random element from a set:\n",
      "1\n",
      "3\n",
      "4\n",
      "\n",
      "Select a random value from a dictionary:\n",
      "1\n",
      "5\n",
      "1\n",
      "\n",
      "Select a random file from a directory.:\n",
      "System Volume Information\n"
     ]
    }
   ],
   "source": [
    "#2 Write a Python program to select a random element from a list, set, dictionary (value)\n",
    "# and a file from a directory. Use random.choice().\n",
    "\n",
    "import random\n",
    "import os\n",
    "print(\"Select a random element from a list:\")\n",
    "elements = [1, 2, 3, 4, 5]\n",
    "print(random.choice(elements))\n",
    "print(random.choice(elements))\n",
    "print(random.choice(elements))\n",
    "print(\"\\nSelect a random element from a set:\")\n",
    "elements = set([1, 2, 3, 4, 5])\n",
    "# convert to tuple because sets are invalid inputs\n",
    "print(random.choice(tuple(elements)))\n",
    "print(random.choice(tuple(elements)))\n",
    "print(random.choice(tuple(elements)))\n",
    "print(\"\\nSelect a random value from a dictionary:\")\n",
    "d = {\"a\": 1, \"b\": 2, \"c\": 3, \"d\": 4, \"e\": 5}\n",
    "key = random.choice(list(d))\n",
    "print(d[key])\n",
    "key = random.choice(list(d))\n",
    "print(d[key])\n",
    "key = random.choice(list(d))\n",
    "print(d[key]) \n",
    "print(\"\\nSelect a random file from a directory.:\")\n",
    "print(random.choice(os.listdir(\"/\")))"
   ]
  },
  {
   "cell_type": "code",
   "execution_count": 4,
   "id": "47bc05d9",
   "metadata": {},
   "outputs": [
    {
     "name": "stdout",
     "output_type": "stream",
     "text": [
      "Construct a seeded random number generator:\n",
      "0.3740582916193791\n",
      "0.8444218515250481\n",
      "\n",
      "Generate a float between 0 and 1, excluding 1:\n",
      "0.5406224430229273\n"
     ]
    }
   ],
   "source": [
    "#3 Write a Python program to construct a seeded random number generator, also\n",
    "# generate a float between 0 and 1, excluding 1. Use random.random().\n",
    "\n",
    "import random\n",
    "print(\"Construct a seeded random number generator:\")\n",
    "print(random.Random().random())\n",
    "print(random.Random(0).random())\n",
    "print(\"\\nGenerate a float between 0 and 1, excluding 1:\")\n",
    "print(random.random())"
   ]
  },
  {
   "cell_type": "code",
   "execution_count": 5,
   "id": "5a3b9f47",
   "metadata": {},
   "outputs": [
    {
     "name": "stdout",
     "output_type": "stream",
     "text": [
      "Generate a random integer between 0 and 6:\n",
      "0\n",
      "Generate random integer between 5 and 10, excluding 10:\n",
      "9\n",
      "Generate random integer between 0 and 10, with a step of 3:\n",
      "9\n",
      "\n",
      "Random date between two dates:\n",
      "2019-02-10\n"
     ]
    }
   ],
   "source": [
    "#4 Write a Python program to generate a random integer between 0 and 6 - excluding 6,\n",
    "# random integer between 5 and 10 - excluding 10, random integer between 0 and 10,\n",
    "# with a step of 3 and random date between two dates. Use random.randrange().\n",
    "\n",
    "import random\n",
    "import datetime\n",
    "print(\"Generate a random integer between 0 and 6:\")\n",
    "print(random.randrange(5))\n",
    "print(\"Generate random integer between 5 and 10, excluding 10:\")\n",
    "print(random.randrange(start=5, stop=10))\n",
    "print(\"Generate random integer between 0 and 10, with a step of 3:\")\n",
    "print(random.randrange(start=0, stop=10, step=3))\n",
    "print(\"\\nRandom date between two dates:\")\n",
    "start_dt = datetime.date(2019, 2, 1)\n",
    "end_dt = datetime.date(2019, 3, 1)\n",
    "time_between_dates = end_dt - start_dt\n",
    "days_between_dates = time_between_dates.days\n",
    "random_number_of_days = random.randrange(days_between_dates)\n",
    "random_date = start_dt + datetime.timedelta(days=random_number_of_days)\n",
    "print(random_date)"
   ]
  },
  {
   "cell_type": "code",
   "execution_count": 6,
   "id": "a8c5f76a",
   "metadata": {},
   "outputs": [
    {
     "name": "stdout",
     "output_type": "stream",
     "text": [
      "Create a list of random integers:\n",
      "[50, 35, 11, 67, 14, 1, 22, 15, 56, 53]\n",
      "\n",
      "Randomly select 4 multiple items from the said list:\n",
      "[14, 11, 53, 67]\n",
      "\n",
      "Randomly select 8 multiple items from the said list:\n",
      "[1, 35, 53, 56, 11, 14, 15, 50]\n"
     ]
    }
   ],
   "source": [
    "#5 Write a Python program to create a list of random integers and randomly select\n",
    "# multiple items from the said list. Use random.sample().\n",
    "\n",
    "import random \n",
    "print(\"Create a list of random integers:\")\n",
    "population = range(0, 100)\n",
    "nums_list = random.sample(population, 10)\n",
    "print(nums_list)\n",
    "no_elements = 4\n",
    "print(\"\\nRandomly select\",no_elements,\"multiple items from the said list:\")\n",
    "result_elements = random.sample(nums_list, no_elements)\n",
    "print(result_elements)\n",
    "no_elements = 8\n",
    "print(\"\\nRandomly select\",no_elements,\"multiple items from the said list:\")\n",
    "result_elements = random.sample(nums_list, no_elements)\n",
    "print(result_elements)"
   ]
  }
 ],
 "metadata": {
  "kernelspec": {
   "display_name": "Python 3 (ipykernel)",
   "language": "python",
   "name": "python3"
  },
  "language_info": {
   "codemirror_mode": {
    "name": "ipython",
    "version": 3
   },
   "file_extension": ".py",
   "mimetype": "text/x-python",
   "name": "python",
   "nbconvert_exporter": "python",
   "pygments_lexer": "ipython3",
   "version": "3.9.12"
  }
 },
 "nbformat": 4,
 "nbformat_minor": 5
}
