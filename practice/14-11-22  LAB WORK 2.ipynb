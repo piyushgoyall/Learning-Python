{
 "cells": [
  {
   "cell_type": "code",
   "execution_count": null,
   "id": "db0cae2d",
   "metadata": {},
   "outputs": [],
   "source": [
    "# 1. Write a program that accepts a list from user and print the alternate element of list.\n",
    "\n",
    "lis = input().split()\n",
    "t = []\n",
    "print(lis)\n",
    "for i in range(0,len(lis),2):\n",
    "    t.append(lis[i])\n",
    "print(t)"
   ]
  },
  {
   "cell_type": "code",
   "execution_count": null,
   "id": "01f9b13c",
   "metadata": {},
   "outputs": [],
   "source": [
    "# 2. Write a program that accepts a list from user. Your program should reverse\n",
    "# the content of list and display it. Do not use reverse() method.\n",
    "\n",
    "l = input().split()\n",
    "l = l[::-1]\n",
    "print(l)"
   ]
  },
  {
   "cell_type": "code",
   "execution_count": null,
   "id": "43fdd87e",
   "metadata": {},
   "outputs": [],
   "source": [
    "# 3. Find and display the largest number of a list without using built-in function\n",
    "# max(). Your program should ask the user to input values in list from keyboard.\n",
    "\n",
    "arr= [int(x) for x in input().split()]\n",
    "maxim = -2**31\n",
    "for i in range(len(arr)):\n",
    "    if arr[i] > maxim:\n",
    "        maxim = arr[i]\n",
    "print(maxim)"
   ]
  },
  {
   "cell_type": "code",
   "execution_count": null,
   "id": "60ffabd9",
   "metadata": {},
   "outputs": [],
   "source": [
    "# 4. Write a program that rotates the element of a list so that the element at the\n",
    "# first index moves to the second index, the element in the second index moves to\n",
    "# the third index, etc., and the element in the last index moves to the first index.\n",
    "\n",
    "a = [int(y) for y in input().split()]\n",
    "b = a.pop(len(a)-1)\n",
    "c = []\n",
    "c.append(b)\n",
    "print(c+a)"
   ]
  },
  {
   "cell_type": "code",
   "execution_count": null,
   "id": "d5ac9bcd",
   "metadata": {},
   "outputs": [],
   "source": [
    "# 5. Write a program that input a string and ask user to delete a given word from a string.\n",
    "\n",
    "string = input()\n",
    "x = input()\n",
    "temp = string.split(\" \")\n",
    "for i in temp:\n",
    "    if i!=x:\n",
    "        print(i,end=\" \")"
   ]
  },
  {
   "cell_type": "code",
   "execution_count": null,
   "id": "8ea9e465",
   "metadata": {},
   "outputs": [],
   "source": [
    "# 6. Write a program that reads a string from the user containing a date in the\n",
    "#  form mm/dd/yyyy. It should print the date in the form March 12, 2021.\n",
    "\n",
    "date = input()\n",
    "temp = date.split(\"/\")\n",
    "month = temp[0]\n",
    "flag = {'01':\"January\",'02':\"February\",'03':\"March\",'04':\"April\",'05':\"May\",'06':\"June\",'07':\"July\",'08':\"August\",'09':\"September\",'10':\"October\",'11':\"November\",'12':\"December\"}\n",
    "print(flag[month],temp[1] + ', ' + temp[2])"
   ]
  },
  {
   "cell_type": "code",
   "execution_count": 2,
   "id": "a9938935",
   "metadata": {},
   "outputs": [
    {
     "name": "stdout",
     "output_type": "stream",
     "text": [
      "stop and smell the roses\n",
      "Stop And Smell The Roses \n",
      "\n",
      "\n",
      "stop and smell the roses\n",
      "Stop And Smell The Roses \n"
     ]
    }
   ],
   "source": [
    "# 7. Write a program with a function that accepts a string from keyboard and\n",
    "# create a new string after converting character of each word capitalized. For\n",
    "# instance, if the sentence is \"stop and smell the roses\" the output should be \"Stop And Smell The Roses\"\n",
    "\n",
    "str = \"\"\n",
    "temp = input().split()\n",
    "for i in range(len(temp)):\n",
    "    for j in range(len(temp[i])):\n",
    "        if j == 0:\n",
    "            str = str + chr(ord(temp[i][0])-32)\n",
    "        else:\n",
    "            str = str + temp[i][j]\n",
    "    str = str + \" \"\n",
    "print(str)\n",
    "\n",
    "print()\n",
    "\n",
    "## OR\n",
    "\n",
    "print()\n",
    "\n",
    "s = [x for x in input().split()]\n",
    "new=''\n",
    "for i in s:\n",
    "    new += i[0].upper()\n",
    "    new += i[1:]\n",
    "    new += \" \"\n",
    "print(new)"
   ]
  }
 ],
 "metadata": {
  "kernelspec": {
   "display_name": "Python 3 (ipykernel)",
   "language": "python",
   "name": "python3"
  },
  "language_info": {
   "codemirror_mode": {
    "name": "ipython",
    "version": 3
   },
   "file_extension": ".py",
   "mimetype": "text/x-python",
   "name": "python",
   "nbconvert_exporter": "python",
   "pygments_lexer": "ipython3",
   "version": "3.9.12"
  }
 },
 "nbformat": 4,
 "nbformat_minor": 5
}
