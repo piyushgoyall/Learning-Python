{
 "cells": [
  {
   "cell_type": "code",
   "execution_count": 4,
   "id": "1b316941",
   "metadata": {},
   "outputs": [
    {
     "name": "stdout",
     "output_type": "stream",
     "text": [
      "3 4 5\n",
      "12\n"
     ]
    }
   ],
   "source": [
    "#1 Write a python program to sum all the elements in a list.\n",
    "\n",
    "li = [x for x in input().split()]\n",
    "sum = 0\n",
    "for i in li:\n",
    "    sum = sum+int(i)\n",
    "print(sum)"
   ]
  },
  {
   "cell_type": "code",
   "execution_count": 5,
   "id": "500ad55e",
   "metadata": {},
   "outputs": [
    {
     "name": "stdout",
     "output_type": "stream",
     "text": [
      "1 2 3 4 5\n",
      "120\n"
     ]
    }
   ],
   "source": [
    "#2 Write a python program to multiply all the elements in a list.\n",
    "\n",
    "arr = [x for x in input().split()]\n",
    "product = 1\n",
    "for i in arr:\n",
    "    product = product*int(i)\n",
    "print(product)"
   ]
  },
  {
   "cell_type": "code",
   "execution_count": 16,
   "id": "f6c5710e",
   "metadata": {},
   "outputs": [
    {
     "name": "stdout",
     "output_type": "stream",
     "text": [
      "12 34 56 78 80 6 7565 645 453 \n",
      "7565\n"
     ]
    }
   ],
   "source": [
    "#3 Write a python program to get the largest number from a list.\n",
    "\n",
    "ar = [int(x) for x in input().split()]\n",
    "maximum = -2**31\n",
    "for i in range(len(ar)):\n",
    "    if ar[i] > maximum:\n",
    "        maximum = ar[i]\n",
    "print(maximum)"
   ]
  },
  {
   "cell_type": "code",
   "execution_count": 67,
   "id": "6a7b02ce",
   "metadata": {},
   "outputs": [
    {
     "name": "stdout",
     "output_type": "stream",
     "text": [
      "10 20 30 40 50 60 70 0\n",
      "0\n"
     ]
    }
   ],
   "source": [
    "#4 Write a python program to get the smallest number from a list.\n",
    "listt = [int(x) for x in input().split()]\n",
    "minimum = 2**31\n",
    "for j in range(len(listt)):\n",
    "    if listt[j] < minimum:\n",
    "        minimum = listt[j]\n",
    "print(minimum)"
   ]
  },
  {
   "cell_type": "code",
   "execution_count": 37,
   "id": "8a6dd76e",
   "metadata": {},
   "outputs": [
    {
     "name": "stdout",
     "output_type": "stream",
     "text": [
      "abc xyz aba 1221\n",
      "2\n"
     ]
    }
   ],
   "source": [
    "#5 Write a Python program to count the number of strings where the string length is 2 or more and \n",
    "# the first and last character are same from a given list of strings.\n",
    "# Sample List : ['abc', 'xyz', 'aba', '1221']\n",
    "# Expected Result : 2\n",
    "\n",
    "n = [q for q in input().split()]\n",
    "count = 0\n",
    "for r in n:\n",
    "    if len(r) >= 2:\n",
    "        if r[0] == r[-1]:\n",
    "            count = count+1\n",
    "print(count)"
   ]
  },
  {
   "cell_type": "code",
   "execution_count": 17,
   "id": "ed503dc1",
   "metadata": {},
   "outputs": [
    {
     "name": "stdout",
     "output_type": "stream",
     "text": [
      "[(2, 1), (1, 2), (2, 3), (4, 4), (2, 5)]\n"
     ]
    }
   ],
   "source": [
    "# 6 Write a Python program to get a list, sorted in increasing order by the \n",
    "#  last element in each tuple from a given list of non-empty tuples.\n",
    "#  Sample List : [(2, 5), (1, 2), (4, 4), (2, 3), (2, 1)]\n",
    "#  Expected Result : [(2, 1), (1, 2), (2, 3), (4, 4), (2, 5)]\n",
    "\n",
    "List = [(2, 5), (1, 2), (4, 4), (2, 3), (2, 1)]\n",
    "for i in range(len(List)):\n",
    "    for j in range(i+1,len(List)):\n",
    "        if List[i][-1] > List[j][-1]:\n",
    "            List[i],List[j] = List[j],List[i]\n",
    "print(List)"
   ]
  },
  {
   "cell_type": "code",
   "execution_count": 62,
   "id": "9194fa6a",
   "metadata": {},
   "outputs": [
    {
     "name": "stdout",
     "output_type": "stream",
     "text": [
      "1 2 3 4 5 3 4 2\n",
      "[1, 5, 3, 4, 2]\n"
     ]
    }
   ],
   "source": [
    "#7 Write a python program to remove duplicates from a list.\n",
    "inn = [int(x) for x in input().split()]\n",
    "new = []\n",
    "for i in range(0,len(inn)):\n",
    "    flag = True\n",
    "    for j in range(i+1,len(inn)):\n",
    "        if inn[i] == inn[j]:\n",
    "            flag = False\n",
    "            break\n",
    "    if flag:\n",
    "        new.append(inn[i])\n",
    "print(new)"
   ]
  },
  {
   "cell_type": "code",
   "execution_count": 18,
   "id": "1643fde8",
   "metadata": {},
   "outputs": [
    {
     "name": "stdout",
     "output_type": "stream",
     "text": [
      "\n",
      "Empty list\n"
     ]
    }
   ],
   "source": [
    "#8 Write a program to check if a list or empty or not.\n",
    "\n",
    "inputt = [t for t in input().split()]\n",
    "if inputt == []:\n",
    "    print(\"Empty list\")\n",
    "else:\n",
    "    print(inputt)"
   ]
  },
  {
   "cell_type": "code",
   "execution_count": 146,
   "id": "eecef74b",
   "metadata": {},
   "outputs": [
    {
     "name": "stdout",
     "output_type": "stream",
     "text": [
      "12 12 3 4 343\n",
      "['12', '12', '3', '4', '343']\n"
     ]
    }
   ],
   "source": [
    "#9 Write a Python program to clone or copy a list.\n",
    "\n",
    "i = [c for c in input().split()]\n",
    "copy = []\n",
    "for co in i:\n",
    "    copy.append(co)\n",
    "print(copy)"
   ]
  },
  {
   "cell_type": "code",
   "execution_count": 19,
   "id": "e3b839e6",
   "metadata": {},
   "outputs": [
    {
     "name": "stdout",
     "output_type": "stream",
     "text": [
      "list of words that are longer than n is\n",
      "3\n",
      "['list', 'words', 'that', 'longer', 'than']\n"
     ]
    }
   ],
   "source": [
    "#10 Write a Python program to find the list of words that are longer than n from a given list of words.\n",
    "\n",
    "words = [a for a in input().split()]\n",
    "n = int(input())\n",
    "new_li = []\n",
    "for i in words:\n",
    "    if len(i)>n:\n",
    "        new_li.append(i)\n",
    "print(new_li)"
   ]
  },
  {
   "cell_type": "code",
   "execution_count": 20,
   "id": "0d69d85b",
   "metadata": {},
   "outputs": [
    {
     "name": "stdout",
     "output_type": "stream",
     "text": [
      "is there anything common\n",
      "seems like there isn't\n"
     ]
    },
    {
     "data": {
      "text/plain": [
       "True"
      ]
     },
     "execution_count": 20,
     "metadata": {},
     "output_type": "execute_result"
    }
   ],
   "source": [
    "#11 Write a Python function that takes two lists and returns True if they have at least one common member. \n",
    "\n",
    "def check_common(l1,l2):\n",
    "    ans = False\n",
    "    for n in l1:\n",
    "        for w in l2:\n",
    "            if n == w:\n",
    "                ans = True\n",
    "                return ans\n",
    "    return False\n",
    "    \n",
    "one = [o for o in input().split()]\n",
    "two = [t for t in input().split()]\n",
    "check_common(one,two)\n"
   ]
  },
  {
   "cell_type": "code",
   "execution_count": 148,
   "id": "99343724",
   "metadata": {},
   "outputs": [
    {
     "name": "stdout",
     "output_type": "stream",
     "text": [
      "['Green', 'White', 'Black']\n"
     ]
    }
   ],
   "source": [
    "#12 Write a Python program to print a specified list after removing the 0th, 4th and 5th elements. Go to the editor\n",
    "# Sample List : ['Red', 'Green', 'White', 'Black', 'Pink', 'Yellow']\n",
    "# Expected Output : ['Green', 'White', 'Black']\n",
    "\n",
    "sample = ['Red', 'Green', 'White', 'Black', 'Pink', 'Yellow']\n",
    "new_sam = []\n",
    "for i in range(len(sample)):\n",
    "    if i == 0 or i == 4 or i == 5:\n",
    "        continue\n",
    "    else:\n",
    "        new_sam.append(sample[i])\n",
    "print(new_sam)"
   ]
  },
  {
   "cell_type": "code",
   "execution_count": 150,
   "id": "a42e4da0",
   "metadata": {},
   "outputs": [
    {
     "name": "stdout",
     "output_type": "stream",
     "text": [
      "[[['*', '*', '*', '*', '*', '*'], ['*', '*', '*', '*', '*', '*'], ['*', '*', '*', '*', '*', '*'], ['*', '*', '*', '*', '*', '*']], [['*', '*', '*', '*', '*', '*'], ['*', '*', '*', '*', '*', '*'], ['*', '*', '*', '*', '*', '*'], ['*', '*', '*', '*', '*', '*']], [['*', '*', '*', '*', '*', '*'], ['*', '*', '*', '*', '*', '*'], ['*', '*', '*', '*', '*', '*'], ['*', '*', '*', '*', '*', '*']]]\n"
     ]
    }
   ],
   "source": [
    "00#13 Write a Python program to generate a 3*4*6 3D array whose each element is *. \n",
    "\n",
    "arr = [[[\"*\" for x in range(6)] for x in range(4)] for x in range(3)]\n",
    "print(arr)"
   ]
  },
  {
   "cell_type": "code",
   "execution_count": 66,
   "id": "b2e51517",
   "metadata": {},
   "outputs": [
    {
     "name": "stdout",
     "output_type": "stream",
     "text": [
      "1 2 3 4 5 6 7 8 9\n",
      "[1, 3, 5, 7, 9]\n"
     ]
    }
   ],
   "source": [
    "#14 Write a Python program to print the numbers of a specified list after removing even numbers from it. \n",
    "\n",
    "even = [int(e) for e in input().split()]\n",
    "new_even = []\n",
    "for v in even:\n",
    "    if v%2 != 0:\n",
    "        new_even.append(v)\n",
    "print(new_even)"
   ]
  },
  {
   "cell_type": "code",
   "execution_count": 158,
   "id": "615c11d1",
   "metadata": {},
   "outputs": [
    {
     "name": "stdout",
     "output_type": "stream",
     "text": [
      "['Red', 'Yellow', 'White', 'Black', 'Pink', 'Green']\n"
     ]
    }
   ],
   "source": [
    "00#15 Write a Python program to shuffle and print a specified list. \n",
    "\n",
    "from random import shuffle\n",
    "color = ['Red', 'Green', 'White', 'Black', 'Pink', 'Yellow']\n",
    "shuffle(color)\n",
    "print(color)"
   ]
  },
  {
   "cell_type": "code",
   "execution_count": 65,
   "id": "112bdd88",
   "metadata": {},
   "outputs": [
    {
     "name": "stdout",
     "output_type": "stream",
     "text": [
      "1\n",
      "30\n",
      "[1, 4, 9, 16, 25]\n",
      "[676, 729, 784, 841, 900]\n"
     ]
    }
   ],
   "source": [
    "# 16 Write a Python program to generate and print a list of first and last 5 elements where the values are \n",
    "#   square of numbers between 1 and 30 (both included). \n",
    "\n",
    "start = int(input())\n",
    "end = int(input())\n",
    "square1 = []\n",
    "square2 = []\n",
    "for i in range(start,end+1):\n",
    "    if i<(start+5):\n",
    "        square1.append(i**2)\n",
    "    elif i>end-5:\n",
    "        square2.append(i**2)\n",
    "    \n",
    "print(square1)\n",
    "print(square2)"
   ]
  },
  {
   "cell_type": "code",
   "execution_count": 143,
   "id": "294c7ff7",
   "metadata": {},
   "outputs": [
    {
     "name": "stdout",
     "output_type": "stream",
     "text": [
      "1\n",
      "30\n",
      "[36, 49, 64, 81, 100, 121, 144, 169, 196, 225, 256, 289, 324, 361, 400, 441, 484, 529, 576, 625, 676, 729, 784, 841, 900]\n"
     ]
    }
   ],
   "source": [
    "#17 Write a Python program to generate and print a list except for the first 5 elements, where \n",
    "#   the values are square of numbers between 1 and 30 (both included). \n",
    "\n",
    "start = int(input())\n",
    "end = int(input())\n",
    "k = 0\n",
    "square1 = []\n",
    "for i in range(start,end+1):\n",
    "    if i>=(start+5):\n",
    "        square1.append(i**2)\n",
    "    \n",
    "print(square1)"
   ]
  },
  {
   "cell_type": "code",
   "execution_count": 57,
   "id": "85e8b8bd",
   "metadata": {},
   "outputs": [
    {
     "name": "stdout",
     "output_type": "stream",
     "text": [
      "1 2 3\n",
      "[('1', '2', '3'), ('1', '3', '2'), ('2', '1', '3'), ('2', '3', '1'), ('3', '1', '2'), ('3', '2', '1')]\n"
     ]
    }
   ],
   "source": [
    "00#18 Write a Python program to generate all permutations of a list in Python.\n",
    "\n",
    "liist = input().split()\n",
    "import itertools\n",
    "print(list(itertools.permutations(liist)))"
   ]
  },
  {
   "cell_type": "code",
   "execution_count": 61,
   "id": "404c2d4c",
   "metadata": {},
   "outputs": [
    {
     "name": "stdout",
     "output_type": "stream",
     "text": [
      "1 2 3 4 5\n",
      "4 5 6 7 8\n",
      "[1, 2, 3, 6, 7, 8]\n"
     ]
    }
   ],
   "source": [
    "#19 Write a Python program to get the difference between the two lists.\n",
    "\n",
    "li1 = [int(l) for l in input().split()]\n",
    "li2 = [int(n) for n in input().split()]\n",
    "li3 = []\n",
    "for d in li1:\n",
    "    for e in li2:\n",
    "        if d == e:\n",
    "            li2.remove(e)\n",
    "            li3.append(e)\n",
    "for f in li3:\n",
    "    if f in li1:\n",
    "        li1.remove(f)\n",
    "print(li1+li2)"
   ]
  }
 ],
 "metadata": {
  "kernelspec": {
   "display_name": "Python 3 (ipykernel)",
   "language": "python",
   "name": "python3"
  },
  "language_info": {
   "codemirror_mode": {
    "name": "ipython",
    "version": 3
   },
   "file_extension": ".py",
   "mimetype": "text/x-python",
   "name": "python",
   "nbconvert_exporter": "python",
   "pygments_lexer": "ipython3",
   "version": "3.9.12"
  }
 },
 "nbformat": 4,
 "nbformat_minor": 5
}
