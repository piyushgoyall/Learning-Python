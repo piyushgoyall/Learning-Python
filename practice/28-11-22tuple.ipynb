{
 "cells": [
  {
   "cell_type": "code",
   "execution_count": 16,
   "metadata": {},
   "outputs": [
    {
     "name": "stdout",
     "output_type": "stream",
     "text": [
      "[(10, 20, 100), (40, 50, 100), (70, 80, 100)]\n"
     ]
    }
   ],
   "source": [
    "#1 Write a Python program to replace last value of tuples in a list. Go to the editor\n",
    "# Sample list: [(10, 20, 40), (40, 50, 60), (70, 80, 90)]\n",
    "# Expected Output: [(10, 20, 100), (40, 50, 100), (70, 80, 100)]\n",
    "\n",
    "t1 = [(10, 20, 40), (40, 50, 60), (70, 80, 90)]\n",
    "print([t[:-1] + (100,) for t in t1])"
   ]
  },
  {
   "cell_type": "code",
   "execution_count": 17,
   "metadata": {},
   "outputs": [
    {
     "name": "stdout",
     "output_type": "stream",
     "text": [
      "[('',), ('a', 'b'), ('a', 'b', 'c'), 'd']\n"
     ]
    }
   ],
   "source": [
    "#2 Write a Python program to remove an empty tuple(s) from a list of tuples. \n",
    "# Sample data: [(), (), ('',), ('a', 'b'), ('a', 'b', 'c'), ('d')]\n",
    "# Expected output: [('',), ('a', 'b'), ('a', 'b', 'c'), 'd']\n",
    "\n",
    "t2 = [(), (), ('',), ('a', 'b'), ('a', 'b', 'c'), ('d')]\n",
    "t2 = [t for t in L if t]\n",
    "print(t2)"
   ]
  },
  {
   "cell_type": "code",
   "execution_count": 18,
   "metadata": {},
   "outputs": [
    {
     "name": "stdout",
     "output_type": "stream",
     "text": [
      "[('item3', '24.5'), ('item2', '15.10'), ('item1', '12.20')]\n"
     ]
    }
   ],
   "source": [
    "#3 Write a Python program to sort a tuple by its float element. \n",
    "# Sample data: [('item1', '12.20'), ('item2', '15.10'), ('item3', '24.5')]\n",
    "# Expected Output: [('item3', '24.5'), ('item2', '15.10'), ('item1', '12.20')]\n",
    "\n",
    "l3 = [('item1', '12.20'), ('item2', '15.10'), ('item3', '24.5')]\n",
    "t = sorted(l3,key=lambda x: x[1])\n",
    "print(t[::-1])"
   ]
  },
  {
   "cell_type": "code",
   "execution_count": 20,
   "metadata": {},
   "outputs": [
    {
     "name": "stdout",
     "output_type": "stream",
     "text": [
      "3\n"
     ]
    }
   ],
   "source": [
    "#4 Write a Python program to count the elements in a list until an element is a tuple.\n",
    "\n",
    "t4 = [10,20,30,(10,20),40]\n",
    "count = 0\n",
    "for n in t4:\n",
    "    if isinstance(n, tuple):\n",
    "        break\n",
    "    count += 1\n",
    "print(count)"
   ]
  },
  {
   "cell_type": "code",
   "execution_count": 23,
   "metadata": {},
   "outputs": [
    {
     "name": "stdout",
     "output_type": "stream",
     "text": [
      "('p', 'y', 't', 'h', 'o', 'n', '3', '.', '0')\n"
     ]
    }
   ],
   "source": [
    "#5 Write a Python program convert a given string list to a tuple. \n",
    "# Original string: python 3.0\n",
    "# <class 'str'>\n",
    "# Convert the said string to a tuple:\n",
    "# ('p', 'y', 't', 'h', 'o', 'n', '3', '.', '0')\n",
    "# <class 'tuple'>\n",
    "\n",
    "t5 = \"string: python 3.0\"\n",
    "def convert(t5):\n",
    "    return tuple(t5)\n",
    "  \n",
    "# Driver function\n",
    "t5 = \"python3.0\"\n",
    "print(convert(t5))"
   ]
  },
  {
   "cell_type": "code",
   "execution_count": 26,
   "metadata": {},
   "outputs": [
    {
     "name": "stdout",
     "output_type": "stream",
     "text": [
      "-864\n"
     ]
    }
   ],
   "source": [
    "#6 Write a Python program calculate the product, multiplying all the numbers of a given tuple. \n",
    "# Original Tuple:\n",
    "# (4, 3, 2, 2, -1, 18)\n",
    "# Product - multiplying all the numbers of the said tuple: -864\n",
    "# Original Tuple:\n",
    "# (2, 4, 8, 8, 3, 2, 9)\n",
    "# Product - multiplying all the numbers of the said tuple: 27648\n",
    "\n",
    "t6 = (4, 3, 2, 2, -1, 18)\n",
    "pro = 1\n",
    "for i in t6:\n",
    "    pro = pro*i\n",
    "print(pro)\n"
   ]
  },
  {
   "cell_type": "code",
   "execution_count": 34,
   "metadata": {},
   "outputs": [
    {
     "name": "stdout",
     "output_type": "stream",
     "text": [
      "[10.75, 54.75, 112.75, 115.25]\n"
     ]
    }
   ],
   "source": [
    "#7 Write a Python program to calculate the average value of the numbers in a given tuple of tuples. \n",
    "# Original Tuple:\n",
    "# ((10, 10, 10, 12), (30, 45, 56, 45), (81, 80, 39, 32), (1, 2, 3, 4))\n",
    "# Average value of the numbers of the said tuple of tuples:\n",
    "# [30.5, 34.25, 27.0, 23.25]\n",
    "# Original Tuple:\n",
    "# ((1, 1, -5), (30, -15, 56), (81, -60, -39), (-10, 2, 3))\n",
    "# Average value of the numbers of the said tuple of tuples:\n",
    "# [25.5, -18.0, 3.75]\n",
    "\n",
    "t7 = ((10, 10, 10, 12), (30, 45, 56, 45), (81, 80, 39, 32), (1, 2, 3, 4))\n",
    "sum = 1\n",
    "a1 = []\n",
    "for i in t7:\n",
    "    for j in i:\n",
    "        sum = sum+j\n",
    "    a1.append(sum/len(i))\n",
    "print(a1)"
   ]
  },
  {
   "cell_type": "code",
   "execution_count": 37,
   "metadata": {},
   "outputs": [
    {
     "name": "stdout",
     "output_type": "stream",
     "text": [
      "((333, 33), (1416, 55))\n"
     ]
    }
   ],
   "source": [
    "#8 Write a Python program to convert a tuple of string values to a tuple of integer values. \n",
    "# Original tuple values:\n",
    "# (('333', '33'), ('1416', '55'))\n",
    "# New tuple values:\n",
    "# ((333, 33), (1416, 55))\n",
    "\n",
    "t8 = (('333', '33'), ('1416', '55'))\n",
    "result = tuple((int(i[0]), int(i[1])) for i in t8)\n",
    "print(result)\n"
   ]
  },
  {
   "cell_type": "code",
   "execution_count": 40,
   "metadata": {},
   "outputs": [
    {
     "name": "stdout",
     "output_type": "stream",
     "text": [
      "102040570"
     ]
    }
   ],
   "source": [
    "#9 Write a Python program to convert a given tuple of positive integers into an integer. \n",
    "# Original tuple:\n",
    "# (1, 2, 3)\n",
    "# Convert the said tuple of positive integers into an integer:\n",
    "# 123\n",
    "# Original tuple:\n",
    "# (10, 20, 40, 5, 70)\n",
    "# Convert the said tuple of positive integers into an integer:\n",
    "# 102040570\n",
    "\n",
    "t9 = (10, 20, 40, 5, 70)\n",
    "for i in t9:\n",
    "    print(i,end=\"\")"
   ]
  },
  {
   "cell_type": "code",
   "execution_count": 1,
   "metadata": {},
   "outputs": [
    {
     "name": "stdout",
     "output_type": "stream",
     "text": [
      "False\n"
     ]
    }
   ],
   "source": [
    "#10 Write a Python program to check if a specified element presents in a tuple of tuples. \n",
    "# Original list:\n",
    "# (('Red', 'White', 'Blue'), ('Green', 'Pink', 'Purple'), ('Orange', 'Yellow', 'Lime'))\n",
    "# Check if White presenet in said tuple of tuples!\n",
    "# True\n",
    "# Check if White presenet in said tuple of tuples!\n",
    "# True\n",
    "# Check if Olive presenet in said tuple of tuples!\n",
    "# False\n",
    "\n",
    "t10 = (('Red', 'White', 'Blue'), ('Green', 'Pink', 'Purple'), ('Orange', 'Yellow', 'Lime'))\n",
    "x = \"White\"\n",
    "for i in t10:\n",
    "    for j in i:\n",
    "        if j == x:\n",
    "            flag = True\n",
    "        else:\n",
    "            flag = False\n",
    "print(flag)"
   ]
  },
  {
   "cell_type": "code",
   "execution_count": 2,
   "metadata": {},
   "outputs": [
    {
     "name": "stdout",
     "output_type": "stream",
     "text": [
      "Original lists:\n",
      "(1, 2, 3, 4)\n",
      "(3, 5, 2, 1)\n",
      "(2, 2, 3, 1)\n",
      "\n",
      "Element-wise sum of the said tuples:\n",
      "(6, 9, 8, 6)\n"
     ]
    }
   ],
   "source": [
    "#11 Write a Python program to compute element-wise sum of given tuples. \n",
    "# Original lists:\n",
    "# (1, 2, 3, 4)\n",
    "# (3, 5, 2, 1)\n",
    "# (2, 2, 3, 1)\n",
    "# Element-wise sum of the said tuples:\n",
    "# (6, 9, 8, 6)\n",
    "\n",
    "x = (1,2,3,4)\n",
    "y = (3,5,2,1)\n",
    "z = (2,2,3,1)\n",
    "print(\"Original lists:\")\n",
    "print(x)\n",
    "print(y)\n",
    "print(z)\n",
    "print(\"\\nElement-wise sum of the said tuples:\")\n",
    "result = tuple(map(sum, zip(x, y, z)))\n",
    "print(result)"
   ]
  },
  {
   "cell_type": "code",
   "execution_count": 3,
   "metadata": {},
   "outputs": [
    {
     "name": "stdout",
     "output_type": "stream",
     "text": [
      "Original list of tuples:\n",
      "[(1, 2), (2, 3), (3, 4)]\n",
      "\n",
      "Sum of all the elements of each tuple stored inside the said list of tuples:\n",
      "[3, 5, 7]\n",
      "\n",
      "Original list of tuples:\n",
      "[(1, 2, 6), (2, 3, -6), (3, 4), (2, 2, 2, 2)]\n",
      "\n",
      "Sum of all the elements of each tuple stored inside the said list of tuples:\n",
      "[9, -1, 7, 8]\n"
     ]
    }
   ],
   "source": [
    "#12 Write a Python program to compute the sum of all the elements of each tuple stored inside a list of tuples. \n",
    "# Original list of tuples:\n",
    "# [(1, 2), (2, 3), (3, 4)]\n",
    "# Sum of all the elements of each tuple stored inside the said list of tuples:\n",
    "# [3, 5, 7]\n",
    "# Original list of tuples:\n",
    "# [(1, 2, 6), (2, 3, -6), (3, 4), (2, 2, 2, 2)]\n",
    "# Sum of all the elements of each tuple stored inside the said list of tuples:\n",
    "# [9, -1, 7, 8]\n",
    "# Click\n",
    "\n",
    "def test(lst):\n",
    "    result =  map(sum, lst)\n",
    "    return list(result)\n",
    "\n",
    "nums = [(1,2), (2,3), (3,4)]\n",
    "print(\"Original list of tuples:\")\n",
    "print(nums)\n",
    "print(\"\\nSum of all the elements of each tuple stored inside the said list of tuples:\")\n",
    "print(test(nums))\n",
    "\n",
    "nums = [(1,2,6), (2,3,-6), (3,4), (2,2,2,2)]\n",
    "print(\"\\nOriginal list of tuples:\")\n",
    "print(nums)\n",
    "print(\"\\nSum of all the elements of each tuple stored inside the said list of tuples:\")\n",
    "print(test(nums))"
   ]
  },
  {
   "cell_type": "code",
   "execution_count": 4,
   "metadata": {},
   "outputs": [
    {
     "name": "stdout",
     "output_type": "stream",
     "text": [
      "Original list of tuples:\n",
      "[(1, 2), (2, 3), (3, 4)]\n",
      "Convert the said list of tuples to a list of lists:\n",
      "[[1, 2], [2, 3], [3, 4]]\n",
      "\n",
      "Original list of tuples:\n",
      "[(1, 2), (2, 3, 5), (3, 4), (2, 3, 4, 2)]\n",
      "Convert the said list of tuples to a list of lists:\n",
      "[[1, 2], [2, 3, 5], [3, 4], [2, 3, 4, 2]]\n"
     ]
    }
   ],
   "source": [
    "#13 Write a Python program to convert a given list of tuples to a list of lists. \n",
    "# Original list of tuples: [(1, 2), (2, 3), (3, 4)]\n",
    "# Convert the said list of tuples to a list of lists: [[1, 2], [2, 3], [3, 4]]\n",
    "# Original list of tuples: [(1, 2), (2, 3, 5), (3, 4), (2, 3, 4, 2)]\n",
    "# Convert the said list of tuples to a list of lists: [[1, 2], [2, 3, 5], [3, 4], [2, 3, 4, 2]]\n",
    "\n",
    "def test(lst_tuples):\n",
    "    result = [list(el) for el in lst_tuples]\n",
    "    return result\n",
    "lst_tuples = [(1,2), (2,3), (3,4)]\n",
    "print(\"Original list of tuples:\")\n",
    "print(lst_tuples)\n",
    "print(\"Convert the said list of tuples to a list of lists:\")\n",
    "print(test(lst_tuples))\n",
    "lst_tuples = [(1,2), (2,3,5), (3,4), (2,3,4,2)]\n",
    "print(\"\\nOriginal list of tuples:\")\n",
    "print(lst_tuples)\n",
    "print(\"Convert the said list of tuples to a list of lists:\")\n",
    "print(test(lst_tuples))"
   ]
  }
 ],
 "metadata": {
  "kernelspec": {
   "display_name": "Python 3 (ipykernel)",
   "language": "python",
   "name": "python3"
  },
  "language_info": {
   "codemirror_mode": {
    "name": "ipython",
    "version": 3
   },
   "file_extension": ".py",
   "mimetype": "text/x-python",
   "name": "python",
   "nbconvert_exporter": "python",
   "pygments_lexer": "ipython3",
   "version": "3.9.12"
  },
  "vscode": {
   "interpreter": {
    "hash": "0d118ab30d5320f6f76a82af7a857166872b69e854714ba143c31f45e513f4f9"
   }
  }
 },
 "nbformat": 4,
 "nbformat_minor": 2
}
