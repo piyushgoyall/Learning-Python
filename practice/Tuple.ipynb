{
 "cells": [
  {
   "cell_type": "code",
   "execution_count": 1,
   "id": "47dcb963",
   "metadata": {},
   "outputs": [
    {
     "name": "stdout",
     "output_type": "stream",
     "text": [
      "(1, 2, 3, 4, 5)\n"
     ]
    }
   ],
   "source": [
    "#1 Write a Python program to create a tuple. \n",
    "\n",
    "t = (1,2,3,4,5)\n",
    "print(t)"
   ]
  },
  {
   "cell_type": "code",
   "execution_count": 3,
   "id": "94896378",
   "metadata": {},
   "outputs": [
    {
     "name": "stdout",
     "output_type": "stream",
     "text": [
      "('HI', 1234, 756.6667, '!@#$%^')\n"
     ]
    }
   ],
   "source": [
    "#2 Write a Python program to create a tuple with different data types.  \n",
    "\n",
    "t1 = (\"HI\",1234,756.6667,\"!@#$%^\")\n",
    "print(t1)"
   ]
  },
  {
   "cell_type": "code",
   "execution_count": 4,
   "id": "66ace422",
   "metadata": {},
   "outputs": [
    {
     "name": "stdout",
     "output_type": "stream",
     "text": [
      "7\n"
     ]
    }
   ],
   "source": [
    "#3 Write a Python program to create a tuple with numbers and print one item.  \n",
    "\n",
    "t2 = (1,2,3,4,5,6,7,8,9)\n",
    "print(t2[6])"
   ]
  },
  {
   "cell_type": "code",
   "execution_count": 5,
   "id": "eab6593d",
   "metadata": {},
   "outputs": [
    {
     "name": "stdout",
     "output_type": "stream",
     "text": [
      "1 2 HI Three\n"
     ]
    }
   ],
   "source": [
    "#4 Write a Python program to unpack a tuple in several variables. \n",
    "\n",
    "t3 = (1,2,\"HI\",\"Three\")\n",
    "n1,n2,n3,n4 = t3\n",
    "print(n1,n2,n3,n4)"
   ]
  },
  {
   "cell_type": "code",
   "execution_count": 10,
   "id": "cc8be0a9",
   "metadata": {},
   "outputs": [
    {
     "name": "stdout",
     "output_type": "stream",
     "text": [
      "(1, 2, 3, 4, 5, 6)\n"
     ]
    }
   ],
   "source": [
    "#5 Write a Python program to add an item in a tuple.  \n",
    "\n",
    "t4 = (1,2,3,4,5)\n",
    "t4 = t4 + (6,)\n",
    "print(t4)"
   ]
  },
  {
   "cell_type": "code",
   "execution_count": 18,
   "id": "f9668c50",
   "metadata": {},
   "outputs": [
    {
     "name": "stdout",
     "output_type": "stream",
     "text": [
      "CHITKARA\n"
     ]
    }
   ],
   "source": [
    "#6 Write a Python program to convert a tuple to a string.\n",
    "\n",
    "t5 = (\"C\",\"H\",\"I\",\"T\",\"K\",\"A\",\"R\",\"A\")\n",
    "x = \"\".join(t5)\n",
    "print(x)"
   ]
  },
  {
   "cell_type": "code",
   "execution_count": 19,
   "id": "a727ea1a",
   "metadata": {},
   "outputs": [
    {
     "name": "stdout",
     "output_type": "stream",
     "text": [
      "4 17\n"
     ]
    }
   ],
   "source": [
    "#7 Write a Python program to get the 4th element and 4th element from last of a tuple.\n",
    "\n",
    "t6 = (1,2,3,4,5,6,7,8,9,0,11,12,13,14,15,16,17,18,19,20)\n",
    "print(t6[3],t6[-4])"
   ]
  },
  {
   "cell_type": "code",
   "execution_count": 20,
   "id": "ae64c062",
   "metadata": {},
   "outputs": [
    {
     "name": "stdout",
     "output_type": "stream",
     "text": [
      "('HELLO', 5, [], True)\n",
      "('HELLO', 5, [50], True)\n",
      "('HELLO', 5, [], True)\n"
     ]
    }
   ],
   "source": [
    "#8 Write a Python program to create the colon of a tuple. \n",
    "\n",
    "from copy import deepcopy\n",
    "#create a tuple\n",
    "tuplex = (\"HELLO\", 5, [], True) \n",
    "print(tuplex)\n",
    "#make a copy of a tuple using deepcopy() function\n",
    "tuplex_colon = deepcopy(tuplex)\n",
    "tuplex_colon[2].append(50)\n",
    "print(tuplex_colon)\n",
    "print(tuplex)"
   ]
  },
  {
   "cell_type": "code",
   "execution_count": 27,
   "id": "8f8ddcf9",
   "metadata": {},
   "outputs": [
    {
     "name": "stdout",
     "output_type": "stream",
     "text": [
      "1 1 2 7 1 1 "
     ]
    }
   ],
   "source": [
    "#9 Write a Python program to find the repeated items of a tuple. \n",
    "\n",
    "t7 = (1,1,2,2,3,4,5,6,7,7,8,1,1,1)\n",
    "for i in range(len(t7)):\n",
    "    for j in range(i+1,len(t7)):\n",
    "        if t7[i] == t7[j]:\n",
    "            print(t7[i],end = \" \")\n",
    "            break"
   ]
  },
  {
   "cell_type": "code",
   "execution_count": 29,
   "id": "8698c7ef",
   "metadata": {},
   "outputs": [
    {
     "name": "stdout",
     "output_type": "stream",
     "text": [
      "Input element to be found : 112\n",
      "Yes\n"
     ]
    }
   ],
   "source": [
    "#10 Write a Python program to check whether an element exists within a tuple.\n",
    "\n",
    "t8 = (111,112,113,114,115,116,117,118,119,120)\n",
    "x = int(input(\"Input element to be found : \"))\n",
    "if x in t8:\n",
    "    print(\"Yes\")"
   ]
  },
  {
   "cell_type": "code",
   "execution_count": 3,
   "id": "fd55ef59",
   "metadata": {},
   "outputs": [
    {
     "name": "stdout",
     "output_type": "stream",
     "text": [
      "(1001, 1002, 1003, 1004, 1005, 1006, 1007)\n"
     ]
    }
   ],
   "source": [
    "#11 Write a Python program to convert a list to a tuple. \n",
    "\n",
    "t9 = [1001,1002,1003,1004,1005,1006,1007]\n",
    "print(tuple(t9))"
   ]
  },
  {
   "cell_type": "code",
   "execution_count": 4,
   "id": "04e261f7",
   "metadata": {},
   "outputs": [
    {
     "name": "stdout",
     "output_type": "stream",
     "text": [
      "Enter index to be removed : 4\n",
      "(1111, 1112, 1113, 1114, 1116, 1117, 1118, 1119, 1120)\n"
     ]
    }
   ],
   "source": [
    "#12 Write a Python program to remove an item from a tuple. \n",
    "\n",
    "t10 = (1111,1112,1113,1114,1115,1116,1117,1118,1119,1120)\n",
    "n = int(input(\"Enter index to be removed : \"))\n",
    "print(t10[:n] + t10[n+1:])"
   ]
  },
  {
   "cell_type": "code",
   "execution_count": 17,
   "id": "abb0769c",
   "metadata": {},
   "outputs": [
    {
     "name": "stdout",
     "output_type": "stream",
     "text": [
      "('a1', 'b1', 'c1', 'd1', 'e1', 'f1', 'g1', 'h1')\n",
      "('d1', 'e1', 'f1', 'g1', 'h1', 'i1', 11111)\n",
      "(11120, 11119, 11118, 11117, 11116, 11115, 11114)\n",
      "11112\n",
      "('e1', 'f1', 'g1', 'h1', 'i1', 11111, 11112, 11113, 11114, 11115, 11116, 11117, 11118, 11119, 11120)\n"
     ]
    }
   ],
   "source": [
    "#13 Write a Python program to slice a tuple.  \n",
    "\n",
    "t11 = (\"a1\",\"b1\",\"c1\",\"d1\",\"e1\",\"f1\",\"g1\",\"h1\",\"i1\",11111,11112,11113,11114,11115,11116,11117,11118,11119,11120)\n",
    "print(t11[:8])\n",
    "print(t11[3:10])\n",
    "print(t11[-1:-8:-1])\n",
    "print(t11[-9])\n",
    "print(t11[4:])"
   ]
  },
  {
   "cell_type": "code",
   "execution_count": 22,
   "id": "df3b76ba",
   "metadata": {},
   "outputs": [
    {
     "name": "stdout",
     "output_type": "stream",
     "text": [
      "Enter element to be found : 11113\n",
      "Index :  2\n"
     ]
    }
   ],
   "source": [
    "#14 Write a Python program to find the index of an item of a tuple. \n",
    "\n",
    "t12 = (11111,11112,11113,11114,11115,11116,11117,11118,11119,11120)\n",
    "m = input(\"Enter element to be found : \")\n",
    "# for i in (t12):\n",
    "#     if i == m:\n",
    "#         print(\"Yes\")\n",
    "for i in range(len(t12)):\n",
    "    if t12[i] == int(m):\n",
    "        print(\"Index : \",i)"
   ]
  },
  {
   "cell_type": "code",
   "execution_count": 23,
   "id": "888b5f42",
   "metadata": {},
   "outputs": [
    {
     "name": "stdout",
     "output_type": "stream",
     "text": [
      "LEngth of tuple :  19\n"
     ]
    }
   ],
   "source": [
    "#15 Write a Python program to find the length of a tuple.\n",
    "\n",
    "t13 = (10,20,30,40,50,60,70,80,90,100,120,130,140,150,160,170,180,190,200)\n",
    "count = 0\n",
    "for i in t13:\n",
    "    count += 1\n",
    "print(\"LEngth of tuple : \",count)"
   ]
  },
  {
   "cell_type": "code",
   "execution_count": 29,
   "id": "0bb107fe",
   "metadata": {},
   "outputs": [
    {
     "name": "stdout",
     "output_type": "stream",
     "text": [
      "{1011: 1010, 1013: 1012, 1015: 1014, 1017: 1016, 1019: 1018, 1000: 1020}\n"
     ]
    }
   ],
   "source": [
    "#16 Write a Python program to convert a tuple to a dictionary.  \n",
    "\n",
    "t14 = ((1010,1011),(1012,1013),(1014,1015),(1016,1017),(1018,1019),(1020,1000))\n",
    "print(dict((x,y) for y,x in t14))"
   ]
  },
  {
   "cell_type": "code",
   "execution_count": 34,
   "id": "04d9446d",
   "metadata": {},
   "outputs": [
    {
     "name": "stdout",
     "output_type": "stream",
     "text": [
      "[(1, 3, 5, 7, 9), (2, 4, 6, 8, 10)]\n"
     ]
    }
   ],
   "source": [
    "#17 Write a Python program to unzip a list of tuples into individual lists. \n",
    "\n",
    "t15 = [(1,2), (3,4), (5,6), (7,8), (9,10)]\n",
    "print(list(zip(*t15)))"
   ]
  },
  {
   "cell_type": "code",
   "execution_count": 30,
   "id": "a2e439d3",
   "metadata": {},
   "outputs": [
    {
     "name": "stdout",
     "output_type": "stream",
     "text": [
      "(9, 99, 98, 97, 96, 95, 94, 93, 92, 91, 90)\n"
     ]
    }
   ],
   "source": [
    "#18 Write a Python program to reverse a tuple.  \n",
    "\n",
    "t16 = (90,91,92,93,94,95,96,97,98,99,9)\n",
    "print(t16[::-1])"
   ]
  },
  {
   "cell_type": "code",
   "execution_count": 35,
   "id": "bbaa42c2",
   "metadata": {},
   "outputs": [
    {
     "name": "stdout",
     "output_type": "stream",
     "text": [
      "{'x': [1, 2, 3], 'y': [1, 2], 'z': [1]}\n"
     ]
    }
   ],
   "source": [
    "#19 Write a Python program to convert a list of tuples into a dictionary.\n",
    "\n",
    "t17 = [(\"x\", 1), (\"x\", 2), (\"x\", 3), (\"y\", 1), (\"y\", 2), (\"z\", 1)]\n",
    "d = {}\n",
    "for a, b in t17:\n",
    "    d.setdefault(a, []).append(b)\n",
    "print (d)"
   ]
  },
  {
   "cell_type": "code",
   "execution_count": 33,
   "id": "3d9a03a4",
   "metadata": {},
   "outputs": [
    {
     "name": "stdout",
     "output_type": "stream",
     "text": [
      "This is a tuple (190, 191, 192, 193, 194, 195, 196, 197, 198, 199, 200)\n"
     ]
    }
   ],
   "source": [
    "#20 Write a Python program to print a tuple with string formatting.  \n",
    "# Sample tuple : (100, 200, 300)\n",
    "# Output : This is a tuple (100, 200, 300)\n",
    "\n",
    "t18 = (190, 191, 192, 193, 194, 195, 196, 197, 198, 199, 200)\n",
    "print('This is a tuple {0}'.format(t18))"
   ]
  }
 ],
 "metadata": {
  "kernelspec": {
   "display_name": "Python 3 (ipykernel)",
   "language": "python",
   "name": "python3"
  },
  "language_info": {
   "codemirror_mode": {
    "name": "ipython",
    "version": 3
   },
   "file_extension": ".py",
   "mimetype": "text/x-python",
   "name": "python",
   "nbconvert_exporter": "python",
   "pygments_lexer": "ipython3",
   "version": "3.9.12"
  }
 },
 "nbformat": 4,
 "nbformat_minor": 5
}
